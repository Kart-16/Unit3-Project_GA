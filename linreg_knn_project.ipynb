{
 "cells": [
  {
   "cell_type": "markdown",
   "metadata": {},
   "source": [
    "<img src=\"http://imgur.com/1ZcRyrc.png\" style=\"float: left; margin: 20px; height: 55px\">\n",
    "\n",
    "# Project 3: Linear Regression and KNN - Train/Test Split\n",
    "\n",
    "---"
   ]
  },
  {
   "cell_type": "markdown",
   "metadata": {},
   "source": [
    "# Introduction\n",
    "\n",
    "To evaluate how our models would perform on new data, we split our data into a training set and a test set, train only on the training set, and evaluate on the test set. In $k$-fold cross validation we repeat this process $k$ times, using a different subset of our data as the test set each time.\n",
    "\n",
    "We use this process to compare multiple models on the same data set. Those models could be variations on a single type (e.g. linear regression models with and without a particular feature), or they could be of completely different types."
   ]
  },
  {
   "cell_type": "markdown",
   "metadata": {},
   "source": [
    "Recall that k-fold cross-validation creates a hold portion of your data set for each iteration of training and validating:\n",
    "\n",
    "![](http://i.imgur.com/0PFrPXJ.png)"
   ]
  },
  {
   "cell_type": "markdown",
   "metadata": {},
   "source": [
    "## Linear Regression Practice\n",
    "\n",
    "In this given task, you will be asked to model the median home price of various houses across U.S. Census tracts in the city of Boston."
   ]
  },
  {
   "cell_type": "code",
   "execution_count": 1,
   "metadata": {},
   "outputs": [],
   "source": [
    "import matplotlib.pyplot as plt\n",
    "\n",
    "% matplotlib inline"
   ]
  },
  {
   "cell_type": "code",
   "execution_count": 2,
   "metadata": {},
   "outputs": [
    {
     "name": "stdout",
     "output_type": "stream",
     "text": [
      "Boston House Prices dataset\n",
      "===========================\n",
      "\n",
      "Notes\n",
      "------\n",
      "Data Set Characteristics:  \n",
      "\n",
      "    :Number of Instances: 506 \n",
      "\n",
      "    :Number of Attributes: 13 numeric/categorical predictive\n",
      "    \n",
      "    :Median Value (attribute 14) is usually the target\n",
      "\n",
      "    :Attribute Information (in order):\n",
      "        - CRIM     per capita crime rate by town\n",
      "        - ZN       proportion of residential land zoned for lots over 25,000 sq.ft.\n",
      "        - INDUS    proportion of non-retail business acres per town\n",
      "        - CHAS     Charles River dummy variable (= 1 if tract bounds river; 0 otherwise)\n",
      "        - NOX      nitric oxides concentration (parts per 10 million)\n",
      "        - RM       average number of rooms per dwelling\n",
      "        - AGE      proportion of owner-occupied units built prior to 1940\n",
      "        - DIS      weighted distances to five Boston employment centres\n",
      "        - RAD      index of accessibility to radial highways\n",
      "        - TAX      full-value property-tax rate per $10,000\n",
      "        - PTRATIO  pupil-teacher ratio by town\n",
      "        - B        1000(Bk - 0.63)^2 where Bk is the proportion of blacks by town\n",
      "        - LSTAT    % lower status of the population\n",
      "        - MEDV     Median value of owner-occupied homes in $1000's\n",
      "\n",
      "    :Missing Attribute Values: None\n",
      "\n",
      "    :Creator: Harrison, D. and Rubinfeld, D.L.\n",
      "\n",
      "This is a copy of UCI ML housing dataset.\n",
      "http://archive.ics.uci.edu/ml/datasets/Housing\n",
      "\n",
      "\n",
      "This dataset was taken from the StatLib library which is maintained at Carnegie Mellon University.\n",
      "\n",
      "The Boston house-price data of Harrison, D. and Rubinfeld, D.L. 'Hedonic\n",
      "prices and the demand for clean air', J. Environ. Economics & Management,\n",
      "vol.5, 81-102, 1978.   Used in Belsley, Kuh & Welsch, 'Regression diagnostics\n",
      "...', Wiley, 1980.   N.B. Various transformations are used in the table on\n",
      "pages 244-261 of the latter.\n",
      "\n",
      "The Boston house-price data has been used in many machine learning papers that address regression\n",
      "problems.   \n",
      "     \n",
      "**References**\n",
      "\n",
      "   - Belsley, Kuh & Welsch, 'Regression diagnostics: Identifying Influential Data and Sources of Collinearity', Wiley, 1980. 244-261.\n",
      "   - Quinlan,R. (1993). Combining Instance-Based and Model-Based Learning. In Proceedings on the Tenth International Conference of Machine Learning, 236-243, University of Massachusetts, Amherst. Morgan Kaufmann.\n",
      "   - many more! (see http://archive.ics.uci.edu/ml/datasets/Housing)\n",
      "\n"
     ]
    }
   ],
   "source": [
    "import pandas as pd\n",
    "import numpy as np\n",
    "from sklearn.datasets import load_boston\n",
    "\n",
    "boston = load_boston()\n",
    "\n",
    "X = pd.DataFrame(boston.data,columns=boston.feature_names)\n",
    "y = pd.DataFrame(boston.target,columns=['MEDV'])\n",
    "\n",
    "print(boston['DESCR'])"
   ]
  },
  {
   "cell_type": "markdown",
   "metadata": {},
   "source": [
    "- Clean Up Data and Perform Exporatory Data Analysis"
   ]
  },
  {
   "cell_type": "markdown",
   "metadata": {},
   "source": [
    "Boston data is from scikit-learn, so it ought to be pretty clean, but we should always perform exploratory data analysis."
   ]
  },
  {
   "cell_type": "markdown",
   "metadata": {},
   "source": [
    "**Items to include:**\n",
    "\n",
    "- Data shape\n",
    "- Data types\n",
    "- Count of null values by column\n",
    "- Basic summary statistics\n",
    "- Number of unique values for each column\n",
    "- Plot of the distribution of each column (e.g. histogram, bar plot, or box plot)\n",
    "- Scatterplot of each column with median price"
   ]
  },
  {
   "cell_type": "code",
   "execution_count": 3,
   "metadata": {},
   "outputs": [
    {
     "data": {
      "text/html": [
       "<div>\n",
       "<style scoped>\n",
       "    .dataframe tbody tr th:only-of-type {\n",
       "        vertical-align: middle;\n",
       "    }\n",
       "\n",
       "    .dataframe tbody tr th {\n",
       "        vertical-align: top;\n",
       "    }\n",
       "\n",
       "    .dataframe thead th {\n",
       "        text-align: right;\n",
       "    }\n",
       "</style>\n",
       "<table border=\"1\" class=\"dataframe\">\n",
       "  <thead>\n",
       "    <tr style=\"text-align: right;\">\n",
       "      <th></th>\n",
       "      <th>MEDV</th>\n",
       "      <th>CRIM</th>\n",
       "      <th>ZN</th>\n",
       "      <th>INDUS</th>\n",
       "      <th>CHAS</th>\n",
       "      <th>NOX</th>\n",
       "      <th>RM</th>\n",
       "      <th>AGE</th>\n",
       "      <th>DIS</th>\n",
       "      <th>RAD</th>\n",
       "      <th>TAX</th>\n",
       "      <th>PTRATIO</th>\n",
       "      <th>B</th>\n",
       "      <th>LSTAT</th>\n",
       "    </tr>\n",
       "  </thead>\n",
       "  <tbody>\n",
       "    <tr>\n",
       "      <th>0</th>\n",
       "      <td>24.0</td>\n",
       "      <td>0.00632</td>\n",
       "      <td>18.0</td>\n",
       "      <td>2.31</td>\n",
       "      <td>0.0</td>\n",
       "      <td>0.538</td>\n",
       "      <td>6.575</td>\n",
       "      <td>65.2</td>\n",
       "      <td>4.0900</td>\n",
       "      <td>1.0</td>\n",
       "      <td>296.0</td>\n",
       "      <td>15.3</td>\n",
       "      <td>396.90</td>\n",
       "      <td>4.98</td>\n",
       "    </tr>\n",
       "    <tr>\n",
       "      <th>1</th>\n",
       "      <td>21.6</td>\n",
       "      <td>0.02731</td>\n",
       "      <td>0.0</td>\n",
       "      <td>7.07</td>\n",
       "      <td>0.0</td>\n",
       "      <td>0.469</td>\n",
       "      <td>6.421</td>\n",
       "      <td>78.9</td>\n",
       "      <td>4.9671</td>\n",
       "      <td>2.0</td>\n",
       "      <td>242.0</td>\n",
       "      <td>17.8</td>\n",
       "      <td>396.90</td>\n",
       "      <td>9.14</td>\n",
       "    </tr>\n",
       "    <tr>\n",
       "      <th>2</th>\n",
       "      <td>34.7</td>\n",
       "      <td>0.02729</td>\n",
       "      <td>0.0</td>\n",
       "      <td>7.07</td>\n",
       "      <td>0.0</td>\n",
       "      <td>0.469</td>\n",
       "      <td>7.185</td>\n",
       "      <td>61.1</td>\n",
       "      <td>4.9671</td>\n",
       "      <td>2.0</td>\n",
       "      <td>242.0</td>\n",
       "      <td>17.8</td>\n",
       "      <td>392.83</td>\n",
       "      <td>4.03</td>\n",
       "    </tr>\n",
       "    <tr>\n",
       "      <th>3</th>\n",
       "      <td>33.4</td>\n",
       "      <td>0.03237</td>\n",
       "      <td>0.0</td>\n",
       "      <td>2.18</td>\n",
       "      <td>0.0</td>\n",
       "      <td>0.458</td>\n",
       "      <td>6.998</td>\n",
       "      <td>45.8</td>\n",
       "      <td>6.0622</td>\n",
       "      <td>3.0</td>\n",
       "      <td>222.0</td>\n",
       "      <td>18.7</td>\n",
       "      <td>394.63</td>\n",
       "      <td>2.94</td>\n",
       "    </tr>\n",
       "    <tr>\n",
       "      <th>4</th>\n",
       "      <td>36.2</td>\n",
       "      <td>0.06905</td>\n",
       "      <td>0.0</td>\n",
       "      <td>2.18</td>\n",
       "      <td>0.0</td>\n",
       "      <td>0.458</td>\n",
       "      <td>7.147</td>\n",
       "      <td>54.2</td>\n",
       "      <td>6.0622</td>\n",
       "      <td>3.0</td>\n",
       "      <td>222.0</td>\n",
       "      <td>18.7</td>\n",
       "      <td>396.90</td>\n",
       "      <td>5.33</td>\n",
       "    </tr>\n",
       "  </tbody>\n",
       "</table>\n",
       "</div>"
      ],
      "text/plain": [
       "   MEDV     CRIM    ZN  INDUS  CHAS    NOX     RM   AGE     DIS  RAD    TAX  \\\n",
       "0  24.0  0.00632  18.0   2.31   0.0  0.538  6.575  65.2  4.0900  1.0  296.0   \n",
       "1  21.6  0.02731   0.0   7.07   0.0  0.469  6.421  78.9  4.9671  2.0  242.0   \n",
       "2  34.7  0.02729   0.0   7.07   0.0  0.469  7.185  61.1  4.9671  2.0  242.0   \n",
       "3  33.4  0.03237   0.0   2.18   0.0  0.458  6.998  45.8  6.0622  3.0  222.0   \n",
       "4  36.2  0.06905   0.0   2.18   0.0  0.458  7.147  54.2  6.0622  3.0  222.0   \n",
       "\n",
       "   PTRATIO       B  LSTAT  \n",
       "0     15.3  396.90   4.98  \n",
       "1     17.8  396.90   9.14  \n",
       "2     17.8  392.83   4.03  \n",
       "3     18.7  394.63   2.94  \n",
       "4     18.7  396.90   5.33  "
      ]
     },
     "execution_count": 3,
     "metadata": {},
     "output_type": "execute_result"
    }
   ],
   "source": [
    "# Creating the dataset by concatenating X and y\n",
    "boston = pd.concat([y, X], axis=1)\n",
    "boston.head(5)"
   ]
  },
  {
   "cell_type": "code",
   "execution_count": 4,
   "metadata": {},
   "outputs": [
    {
     "data": {
      "text/plain": [
       "(506, 14)"
      ]
     },
     "execution_count": 4,
     "metadata": {},
     "output_type": "execute_result"
    }
   ],
   "source": [
    "#Print data shape\n",
    "boston.shape"
   ]
  },
  {
   "cell_type": "code",
   "execution_count": 5,
   "metadata": {},
   "outputs": [
    {
     "data": {
      "text/plain": [
       "MEDV       float64\n",
       "CRIM       float64\n",
       "ZN         float64\n",
       "INDUS      float64\n",
       "CHAS       float64\n",
       "NOX        float64\n",
       "RM         float64\n",
       "AGE        float64\n",
       "DIS        float64\n",
       "RAD        float64\n",
       "TAX        float64\n",
       "PTRATIO    float64\n",
       "B          float64\n",
       "LSTAT      float64\n",
       "dtype: object"
      ]
     },
     "execution_count": 5,
     "metadata": {},
     "output_type": "execute_result"
    }
   ],
   "source": [
    "#Print data types\n",
    "boston.dtypes"
   ]
  },
  {
   "cell_type": "code",
   "execution_count": 6,
   "metadata": {},
   "outputs": [
    {
     "data": {
      "text/plain": [
       "MEDV       0\n",
       "CRIM       0\n",
       "ZN         0\n",
       "INDUS      0\n",
       "CHAS       0\n",
       "NOX        0\n",
       "RM         0\n",
       "AGE        0\n",
       "DIS        0\n",
       "RAD        0\n",
       "TAX        0\n",
       "PTRATIO    0\n",
       "B          0\n",
       "LSTAT      0\n",
       "dtype: int64"
      ]
     },
     "execution_count": 6,
     "metadata": {},
     "output_type": "execute_result"
    }
   ],
   "source": [
    "#Count of null values by column\n",
    "boston.isnull().sum()"
   ]
  },
  {
   "cell_type": "code",
   "execution_count": 7,
   "metadata": {},
   "outputs": [
    {
     "data": {
      "text/html": [
       "<div>\n",
       "<style scoped>\n",
       "    .dataframe tbody tr th:only-of-type {\n",
       "        vertical-align: middle;\n",
       "    }\n",
       "\n",
       "    .dataframe tbody tr th {\n",
       "        vertical-align: top;\n",
       "    }\n",
       "\n",
       "    .dataframe thead th {\n",
       "        text-align: right;\n",
       "    }\n",
       "</style>\n",
       "<table border=\"1\" class=\"dataframe\">\n",
       "  <thead>\n",
       "    <tr style=\"text-align: right;\">\n",
       "      <th></th>\n",
       "      <th>MEDV</th>\n",
       "      <th>CRIM</th>\n",
       "      <th>ZN</th>\n",
       "      <th>INDUS</th>\n",
       "      <th>CHAS</th>\n",
       "      <th>NOX</th>\n",
       "      <th>RM</th>\n",
       "      <th>AGE</th>\n",
       "      <th>DIS</th>\n",
       "      <th>RAD</th>\n",
       "      <th>TAX</th>\n",
       "      <th>PTRATIO</th>\n",
       "      <th>B</th>\n",
       "      <th>LSTAT</th>\n",
       "    </tr>\n",
       "  </thead>\n",
       "  <tbody>\n",
       "    <tr>\n",
       "      <th>count</th>\n",
       "      <td>506.000000</td>\n",
       "      <td>506.000000</td>\n",
       "      <td>506.000000</td>\n",
       "      <td>506.000000</td>\n",
       "      <td>506.000000</td>\n",
       "      <td>506.000000</td>\n",
       "      <td>506.000000</td>\n",
       "      <td>506.000000</td>\n",
       "      <td>506.000000</td>\n",
       "      <td>506.000000</td>\n",
       "      <td>506.000000</td>\n",
       "      <td>506.000000</td>\n",
       "      <td>506.000000</td>\n",
       "      <td>506.000000</td>\n",
       "    </tr>\n",
       "    <tr>\n",
       "      <th>mean</th>\n",
       "      <td>22.532806</td>\n",
       "      <td>3.593761</td>\n",
       "      <td>11.363636</td>\n",
       "      <td>11.136779</td>\n",
       "      <td>0.069170</td>\n",
       "      <td>0.554695</td>\n",
       "      <td>6.284634</td>\n",
       "      <td>68.574901</td>\n",
       "      <td>3.795043</td>\n",
       "      <td>9.549407</td>\n",
       "      <td>408.237154</td>\n",
       "      <td>18.455534</td>\n",
       "      <td>356.674032</td>\n",
       "      <td>12.653063</td>\n",
       "    </tr>\n",
       "    <tr>\n",
       "      <th>std</th>\n",
       "      <td>9.197104</td>\n",
       "      <td>8.596783</td>\n",
       "      <td>23.322453</td>\n",
       "      <td>6.860353</td>\n",
       "      <td>0.253994</td>\n",
       "      <td>0.115878</td>\n",
       "      <td>0.702617</td>\n",
       "      <td>28.148861</td>\n",
       "      <td>2.105710</td>\n",
       "      <td>8.707259</td>\n",
       "      <td>168.537116</td>\n",
       "      <td>2.164946</td>\n",
       "      <td>91.294864</td>\n",
       "      <td>7.141062</td>\n",
       "    </tr>\n",
       "    <tr>\n",
       "      <th>min</th>\n",
       "      <td>5.000000</td>\n",
       "      <td>0.006320</td>\n",
       "      <td>0.000000</td>\n",
       "      <td>0.460000</td>\n",
       "      <td>0.000000</td>\n",
       "      <td>0.385000</td>\n",
       "      <td>3.561000</td>\n",
       "      <td>2.900000</td>\n",
       "      <td>1.129600</td>\n",
       "      <td>1.000000</td>\n",
       "      <td>187.000000</td>\n",
       "      <td>12.600000</td>\n",
       "      <td>0.320000</td>\n",
       "      <td>1.730000</td>\n",
       "    </tr>\n",
       "    <tr>\n",
       "      <th>25%</th>\n",
       "      <td>17.025000</td>\n",
       "      <td>0.082045</td>\n",
       "      <td>0.000000</td>\n",
       "      <td>5.190000</td>\n",
       "      <td>0.000000</td>\n",
       "      <td>0.449000</td>\n",
       "      <td>5.885500</td>\n",
       "      <td>45.025000</td>\n",
       "      <td>2.100175</td>\n",
       "      <td>4.000000</td>\n",
       "      <td>279.000000</td>\n",
       "      <td>17.400000</td>\n",
       "      <td>375.377500</td>\n",
       "      <td>6.950000</td>\n",
       "    </tr>\n",
       "    <tr>\n",
       "      <th>50%</th>\n",
       "      <td>21.200000</td>\n",
       "      <td>0.256510</td>\n",
       "      <td>0.000000</td>\n",
       "      <td>9.690000</td>\n",
       "      <td>0.000000</td>\n",
       "      <td>0.538000</td>\n",
       "      <td>6.208500</td>\n",
       "      <td>77.500000</td>\n",
       "      <td>3.207450</td>\n",
       "      <td>5.000000</td>\n",
       "      <td>330.000000</td>\n",
       "      <td>19.050000</td>\n",
       "      <td>391.440000</td>\n",
       "      <td>11.360000</td>\n",
       "    </tr>\n",
       "    <tr>\n",
       "      <th>75%</th>\n",
       "      <td>25.000000</td>\n",
       "      <td>3.647423</td>\n",
       "      <td>12.500000</td>\n",
       "      <td>18.100000</td>\n",
       "      <td>0.000000</td>\n",
       "      <td>0.624000</td>\n",
       "      <td>6.623500</td>\n",
       "      <td>94.075000</td>\n",
       "      <td>5.188425</td>\n",
       "      <td>24.000000</td>\n",
       "      <td>666.000000</td>\n",
       "      <td>20.200000</td>\n",
       "      <td>396.225000</td>\n",
       "      <td>16.955000</td>\n",
       "    </tr>\n",
       "    <tr>\n",
       "      <th>max</th>\n",
       "      <td>50.000000</td>\n",
       "      <td>88.976200</td>\n",
       "      <td>100.000000</td>\n",
       "      <td>27.740000</td>\n",
       "      <td>1.000000</td>\n",
       "      <td>0.871000</td>\n",
       "      <td>8.780000</td>\n",
       "      <td>100.000000</td>\n",
       "      <td>12.126500</td>\n",
       "      <td>24.000000</td>\n",
       "      <td>711.000000</td>\n",
       "      <td>22.000000</td>\n",
       "      <td>396.900000</td>\n",
       "      <td>37.970000</td>\n",
       "    </tr>\n",
       "  </tbody>\n",
       "</table>\n",
       "</div>"
      ],
      "text/plain": [
       "             MEDV        CRIM          ZN       INDUS        CHAS         NOX  \\\n",
       "count  506.000000  506.000000  506.000000  506.000000  506.000000  506.000000   \n",
       "mean    22.532806    3.593761   11.363636   11.136779    0.069170    0.554695   \n",
       "std      9.197104    8.596783   23.322453    6.860353    0.253994    0.115878   \n",
       "min      5.000000    0.006320    0.000000    0.460000    0.000000    0.385000   \n",
       "25%     17.025000    0.082045    0.000000    5.190000    0.000000    0.449000   \n",
       "50%     21.200000    0.256510    0.000000    9.690000    0.000000    0.538000   \n",
       "75%     25.000000    3.647423   12.500000   18.100000    0.000000    0.624000   \n",
       "max     50.000000   88.976200  100.000000   27.740000    1.000000    0.871000   \n",
       "\n",
       "               RM         AGE         DIS         RAD         TAX     PTRATIO  \\\n",
       "count  506.000000  506.000000  506.000000  506.000000  506.000000  506.000000   \n",
       "mean     6.284634   68.574901    3.795043    9.549407  408.237154   18.455534   \n",
       "std      0.702617   28.148861    2.105710    8.707259  168.537116    2.164946   \n",
       "min      3.561000    2.900000    1.129600    1.000000  187.000000   12.600000   \n",
       "25%      5.885500   45.025000    2.100175    4.000000  279.000000   17.400000   \n",
       "50%      6.208500   77.500000    3.207450    5.000000  330.000000   19.050000   \n",
       "75%      6.623500   94.075000    5.188425   24.000000  666.000000   20.200000   \n",
       "max      8.780000  100.000000   12.126500   24.000000  711.000000   22.000000   \n",
       "\n",
       "                B       LSTAT  \n",
       "count  506.000000  506.000000  \n",
       "mean   356.674032   12.653063  \n",
       "std     91.294864    7.141062  \n",
       "min      0.320000    1.730000  \n",
       "25%    375.377500    6.950000  \n",
       "50%    391.440000   11.360000  \n",
       "75%    396.225000   16.955000  \n",
       "max    396.900000   37.970000  "
      ]
     },
     "execution_count": 7,
     "metadata": {},
     "output_type": "execute_result"
    }
   ],
   "source": [
    "#Basic Stats\n",
    "boston.describe()"
   ]
  },
  {
   "cell_type": "code",
   "execution_count": 8,
   "metadata": {},
   "outputs": [
    {
     "data": {
      "text/plain": [
       "MEDV       229\n",
       "CRIM       504\n",
       "ZN          26\n",
       "INDUS       76\n",
       "CHAS         2\n",
       "NOX         81\n",
       "RM         446\n",
       "AGE        356\n",
       "DIS        412\n",
       "RAD          9\n",
       "TAX         66\n",
       "PTRATIO     46\n",
       "B          357\n",
       "LSTAT      455\n",
       "dtype: int64"
      ]
     },
     "execution_count": 8,
     "metadata": {},
     "output_type": "execute_result"
    }
   ],
   "source": [
    "boston.loc[:,:].nunique()"
   ]
  },
  {
   "cell_type": "code",
   "execution_count": 29,
   "metadata": {},
   "outputs": [
    {
     "data": {
      "image/png": "[encoded data removed]",
      "text/plain": [
       "<Figure size 288x288 with 1 Axes>"
      ]
     },
     "metadata": {},
     "output_type": "display_data"
    }
   ],
   "source": [
    "ax = boston.boxplot(column = 'CRIM', figsize = (4,4));"
   ]
  },
  {
   "cell_type": "code",
   "execution_count": 30,
   "metadata": {},
   "outputs": [
    {
     "data": {
      "image/png": "[encoded data removed]",
      "text/plain": [
       "<Figure size 288x288 with 1 Axes>"
      ]
     },
     "metadata": {},
     "output_type": "display_data"
    }
   ],
   "source": [
    "ax = boston.boxplot(column = 'ZN', figsize = (4,4));"
   ]
  },
  {
   "cell_type": "code",
   "execution_count": 31,
   "metadata": {},
   "outputs": [
    {
     "data": {
      "image/png": "[encoded data removed]",
      "text/plain": [
       "<Figure size 288x288 with 1 Axes>"
      ]
     },
     "metadata": {},
     "output_type": "display_data"
    }
   ],
   "source": [
    "ax = boston.boxplot(column = 'INDUS', figsize = (4,4));"
   ]
  },
  {
   "cell_type": "code",
   "execution_count": 32,
   "metadata": {},
   "outputs": [
    {
     "data": {
      "image/png": "[encoded data removed]",
      "text/plain": [
       "<Figure size 288x288 with 1 Axes>"
      ]
     },
     "metadata": {},
     "output_type": "display_data"
    }
   ],
   "source": [
    "ax = boston.boxplot(column = 'CHAS', figsize = (4,4));"
   ]
  },
  {
   "cell_type": "code",
   "execution_count": 33,
   "metadata": {},
   "outputs": [
    {
     "data": {
      "image/png": "[encoded data removed]",
      "text/plain": [
       "<Figure size 288x288 with 1 Axes>"
      ]
     },
     "metadata": {},
     "output_type": "display_data"
    }
   ],
   "source": [
    "ax = boston.boxplot(column = 'NOX', figsize = (4,4));"
   ]
  },
  {
   "cell_type": "code",
   "execution_count": 34,
   "metadata": {},
   "outputs": [
    {
     "data": {
      "image/png": "[encoded data removed]",
      "text/plain": [
       "<Figure size 288x288 with 1 Axes>"
      ]
     },
     "metadata": {},
     "output_type": "display_data"
    }
   ],
   "source": [
    "ax = boston.boxplot(column = 'RM', figsize = (4,4));"
   ]
  },
  {
   "cell_type": "code",
   "execution_count": 35,
   "metadata": {},
   "outputs": [
    {
     "data": {
      "image/png": "[encoded data removed]",
      "text/plain": [
       "<Figure size 288x288 with 1 Axes>"
      ]
     },
     "metadata": {},
     "output_type": "display_data"
    }
   ],
   "source": [
    "#Similar logic for boxplots pertaining to other variables\n",
    "ax = boston.boxplot(column = 'AGE', figsize = (4,4));\n",
    "ax = boston.boxplot(column = 'DIS', figsize = (4,4));\n",
    "ax = boston.boxplot(column = 'RAD', figsize = (4,4));\n",
    "ax = boston.boxplot(column = 'TAX', figsize = (4,4));\n",
    "ax = boston.boxplot(column = 'PTRATIO', figsize = (4,4));\n",
    "ax = boston.boxplot(column = 'B', figsize = (4,4));\n",
    "ax = boston.boxplot(column = 'LSTAT', figsize = (4,4));"
   ]
  },
  {
   "cell_type": "code",
   "execution_count": 9,
   "metadata": {},
   "outputs": [
    {
     "data": {
      "image/png": "[encoded data removed]",
      "text/plain": [
       "<Figure size 432x288 with 1 Axes>"
      ]
     },
     "metadata": {},
     "output_type": "display_data"
    }
   ],
   "source": [
    "#Inspecting scatter plots for all independent variables w.r.t. median income.\n",
    "ax = boston.plot(kind='scatter', x = 'CRIM', y = 'MEDV')"
   ]
  },
  {
   "cell_type": "code",
   "execution_count": 10,
   "metadata": {},
   "outputs": [
    {
     "data": {
      "image/png": "[encoded data removed]",
      "text/plain": [
       "<Figure size 432x288 with 1 Axes>"
      ]
     },
     "metadata": {},
     "output_type": "display_data"
    }
   ],
   "source": [
    "ax = boston.plot(kind='scatter', x = 'ZN', y = 'MEDV')"
   ]
  },
  {
   "cell_type": "code",
   "execution_count": 11,
   "metadata": {},
   "outputs": [
    {
     "data": {
      "image/png": "[encoded data removed]",
      "text/plain": [
       "<Figure size 432x288 with 1 Axes>"
      ]
     },
     "metadata": {},
     "output_type": "display_data"
    }
   ],
   "source": [
    "ax = boston.plot(kind='scatter', x = 'INDUS', y = 'MEDV')"
   ]
  },
  {
   "cell_type": "code",
   "execution_count": 12,
   "metadata": {},
   "outputs": [
    {
     "data": {
      "image/png": "[encoded data removed]",
      "text/plain": [
       "<Figure size 432x288 with 1 Axes>"
      ]
     },
     "metadata": {},
     "output_type": "display_data"
    }
   ],
   "source": [
    "ax = boston.plot(kind='scatter', x = 'CHAS', y = 'MEDV')"
   ]
  },
  {
   "cell_type": "code",
   "execution_count": 13,
   "metadata": {},
   "outputs": [
    {
     "data": {
      "image/png": "[encoded data removed]",
      "text/plain": [
       "<Figure size 432x288 with 1 Axes>"
      ]
     },
     "metadata": {},
     "output_type": "display_data"
    }
   ],
   "source": [
    "ax = boston.plot(kind='scatter', x = 'NOX', y = 'MEDV')"
   ]
  },
  {
   "cell_type": "code",
   "execution_count": 14,
   "metadata": {},
   "outputs": [
    {
     "data": {
      "image/png": "[encoded data removed]",
      "text/plain": [
       "<Figure size 432x288 with 1 Axes>"
      ]
     },
     "metadata": {},
     "output_type": "display_data"
    }
   ],
   "source": [
    "ax = boston.plot(kind='scatter', x = 'RM', y = 'MEDV')"
   ]
  },
  {
   "cell_type": "code",
   "execution_count": 15,
   "metadata": {},
   "outputs": [
    {
     "data": {
      "image/png": "[encoded data removed]",
      "text/plain": [
       "<Figure size 432x288 with 1 Axes>"
      ]
     },
     "metadata": {},
     "output_type": "display_data"
    }
   ],
   "source": [
    "ax = boston.plot(kind='scatter', x = 'AGE', y = 'MEDV')"
   ]
  },
  {
   "cell_type": "code",
   "execution_count": 16,
   "metadata": {},
   "outputs": [
    {
     "data": {
      "image/png": "[encoded data removed]",
      "text/plain": [
       "<Figure size 432x288 with 1 Axes>"
      ]
     },
     "metadata": {},
     "output_type": "display_data"
    }
   ],
   "source": [
    "ax = boston.plot(kind='scatter', x = 'DIS', y = 'MEDV')"
   ]
  },
  {
   "cell_type": "code",
   "execution_count": 17,
   "metadata": {},
   "outputs": [
    {
     "data": {
      "image/png": "[encoded data removed]",
      "text/plain": [
       "<Figure size 432x288 with 1 Axes>"
      ]
     },
     "metadata": {},
     "output_type": "display_data"
    }
   ],
   "source": [
    "ax = boston.plot(kind='scatter', x = 'RAD', y = 'MEDV')"
   ]
  },
  {
   "cell_type": "code",
   "execution_count": 18,
   "metadata": {},
   "outputs": [
    {
     "data": {
      "image/png": "[encoded data removed]",
      "text/plain": [
       "<Figure size 432x288 with 1 Axes>"
      ]
     },
     "metadata": {},
     "output_type": "display_data"
    }
   ],
   "source": [
    "ax = boston.plot(kind='scatter', x = 'TAX', y = 'MEDV')"
   ]
  },
  {
   "cell_type": "code",
   "execution_count": 19,
   "metadata": {},
   "outputs": [
    {
     "data": {
      "image/png": "[encoded data removed]",
      "text/plain": [
       "<Figure size 432x288 with 1 Axes>"
      ]
     },
     "metadata": {},
     "output_type": "display_data"
    }
   ],
   "source": [
    "ax = boston.plot(kind='scatter', x = 'PTRATIO', y = 'MEDV')"
   ]
  },
  {
   "cell_type": "code",
   "execution_count": 20,
   "metadata": {},
   "outputs": [
    {
     "data": {
      "image/png": "[encoded data removed]",
      "text/plain": [
       "<Figure size 432x288 with 1 Axes>"
      ]
     },
     "metadata": {},
     "output_type": "display_data"
    }
   ],
   "source": [
    "ax = boston.plot(kind='scatter', x = 'B', y = 'MEDV')"
   ]
  },
  {
   "cell_type": "code",
   "execution_count": 21,
   "metadata": {},
   "outputs": [
    {
     "data": {
      "image/png": "[encoded data removed]",
      "text/plain": [
       "<Figure size 432x288 with 1 Axes>"
      ]
     },
     "metadata": {},
     "output_type": "display_data"
    }
   ],
   "source": [
    "ax = boston.plot(kind='scatter', x = 'LSTAT', y = 'MEDV')"
   ]
  },
  {
   "cell_type": "markdown",
   "metadata": {},
   "source": [
    "- Get the MSE of a null model that simply predicts the mean value of MEDV. (You could do a train/test split here, but it won't make much difference for such a simple model.)"
   ]
  },
  {
   "cell_type": "code",
   "execution_count": 36,
   "metadata": {},
   "outputs": [],
   "source": [
    "feature_cols = boston.columns.drop(['MEDV'])\n",
    "X = boston.loc[:, feature_cols]\n",
    "y = boston.loc[:, 'MEDV']\n",
    "y_null = np.zeros(len(y))+np.mean(y)\n",
    "\n",
    "from sklearn import metrics\n"
   ]
  },
  {
   "cell_type": "code",
   "execution_count": 37,
   "metadata": {},
   "outputs": [
    {
     "name": "stdout",
     "output_type": "stream",
     "text": [
      "84.41955615616554\n"
     ]
    }
   ],
   "source": [
    "print(metrics.mean_squared_error(y,y_null))"
   ]
  },
  {
   "cell_type": "markdown",
   "metadata": {},
   "source": [
    "- Develop a linear regression model to predict MEDV. Train it on 70% of the data. Gets its MSE on both that 70% and the other 30%."
   ]
  },
  {
   "cell_type": "code",
   "execution_count": 38,
   "metadata": {},
   "outputs": [
    {
     "name": "stdout",
     "output_type": "stream",
     "text": [
      "22.893543268008383\n",
      "18.926168390351947\n"
     ]
    }
   ],
   "source": [
    "from sklearn.linear_model import LinearRegression\n",
    "from sklearn.model_selection import train_test_split\n",
    "\n",
    "X_train, X_test, y_train, y_test = train_test_split(X, y, random_state =1)\n",
    "\n",
    "X_train.shape\n",
    "X_test.shape\n",
    "y_train.shape\n",
    "y_test.shape\n",
    "\n",
    "lr = LinearRegression()\n",
    "lr.fit(X, y)\n",
    "\n",
    "print(metrics.mean_squared_error(y_train,lr.predict(X_train)))\n",
    "print(metrics.mean_squared_error(y_test,lr.predict(X_test)))"
   ]
  },
  {
   "cell_type": "markdown",
   "metadata": {},
   "source": [
    "- K-fold cross-validation is slower than a simple train/test split, but it gives more reliable estimates of generalization error. Use ten-fold cross-validation to evaluate your model's MSE on both training and test data. Use this result to answer the following questions."
   ]
  },
  {
   "cell_type": "code",
   "execution_count": 39,
   "metadata": {},
   "outputs": [
    {
     "data": {
      "text/plain": [
       "[(array([  0,   1,   2,   3,   4,   5,   6,   7,   8,   9,  10,  11,  12,\n",
       "          14,  15,  16,  17,  18,  19,  20,  21,  22,  23,  24,  25,  27,\n",
       "          28,  30,  31,  32,  33,  34,  35,  36,  37,  38,  39,  41,  42,\n",
       "          43,  44,  45,  46,  47,  48,  49,  50,  51,  52,  53,  54,  56,\n",
       "          57,  58,  59,  60,  62,  63,  64,  65,  66,  67,  68,  71,  72,\n",
       "          73,  74,  75,  76,  77,  78,  79,  80,  81,  82,  83,  84,  85,\n",
       "          86,  87,  88,  89,  90,  91,  92,  93,  94,  95,  96,  98,  99,\n",
       "         100, 101, 102, 103, 104, 105, 106, 107, 108, 109, 110, 112, 113,\n",
       "         114, 115, 116, 117, 118, 119, 120, 121, 122, 123, 124, 125, 126,\n",
       "         127, 128, 129, 130, 131, 132, 133, 134, 135, 136, 137, 138, 140,\n",
       "         141, 142, 143, 144, 148, 149, 150, 151, 152, 153, 154, 156, 157,\n",
       "         158, 159, 160, 161, 162, 163, 164, 165, 166, 167, 168, 169, 170,\n",
       "         171, 172, 173, 175, 176, 178, 179, 180, 181, 182, 183, 184, 185,\n",
       "         186, 187, 188, 189, 190, 192, 193, 194, 196, 198, 199, 200, 202,\n",
       "         203, 206, 207, 208, 209, 210, 211, 212, 213, 214, 215, 216, 217,\n",
       "         218, 219, 220, 222, 223, 224, 225, 226, 227, 228, 229, 230, 231,\n",
       "         232, 233, 234, 235, 236, 237, 238, 239, 240, 241, 242, 243, 244,\n",
       "         245, 246, 247, 248, 249, 250, 251, 252, 253, 254, 255, 256, 257,\n",
       "         258, 259, 260, 261, 262, 263, 264, 267, 268, 269, 270, 271, 272,\n",
       "         273, 274, 276, 277, 280, 281, 282, 283, 285, 286, 287, 288, 289,\n",
       "         290, 291, 292, 293, 294, 295, 296, 297, 298, 299, 300, 301, 302,\n",
       "         303, 304, 305, 306, 307, 308, 309, 310, 312, 313, 314, 315, 316,\n",
       "         318, 319, 320, 321, 322, 323, 324, 325, 326, 327, 329, 331, 332,\n",
       "         333, 334, 335, 336, 337, 339, 340, 341, 342, 343, 345, 347, 348,\n",
       "         349, 350, 352, 353, 354, 355, 356, 357, 358, 359, 360, 361, 362,\n",
       "         363, 365, 366, 367, 368, 369, 370, 371, 372, 373, 374, 375, 377,\n",
       "         378, 379, 380, 381, 382, 383, 384, 385, 386, 388, 390, 391, 392,\n",
       "         393, 394, 395, 396, 397, 398, 399, 400, 401, 402, 403, 404, 405,\n",
       "         406, 407, 408, 409, 410, 411, 412, 413, 414, 415, 416, 417, 418,\n",
       "         419, 420, 421, 422, 423, 424, 425, 426, 427, 428, 429, 430, 431,\n",
       "         432, 433, 434, 435, 436, 437, 438, 439, 440, 443, 444, 445, 446,\n",
       "         447, 448, 449, 450, 451, 452, 453, 454, 455, 457, 459, 460, 461,\n",
       "         462, 464, 465, 466, 467, 469, 471, 472, 473, 474, 475, 476, 477,\n",
       "         478, 479, 481, 482, 483, 484, 485, 486, 487, 488, 489, 490, 491,\n",
       "         492, 493, 494, 495, 496, 497, 498, 500, 501, 502, 503, 504, 505]),\n",
       "  array([ 13,  26,  29,  40,  55,  61,  69,  70,  97, 111, 139, 145, 146,\n",
       "         147, 155, 174, 177, 191, 195, 197, 201, 204, 205, 221, 265, 266,\n",
       "         275, 278, 279, 284, 311, 317, 328, 330, 338, 344, 346, 351, 364,\n",
       "         376, 387, 389, 441, 442, 456, 458, 463, 468, 470, 480, 499])),\n",
       " (array([  0,   1,   2,   3,   4,   6,   7,   8,   9,  10,  11,  12,  13,\n",
       "          14,  15,  16,  17,  19,  20,  21,  22,  23,  24,  26,  27,  28,\n",
       "          29,  30,  31,  32,  33,  34,  35,  37,  38,  39,  40,  42,  43,\n",
       "          44,  45,  46,  47,  48,  49,  50,  51,  52,  53,  54,  55,  56,\n",
       "          57,  58,  59,  60,  61,  62,  63,  64,  65,  66,  67,  68,  69,\n",
       "          70,  71,  72,  73,  74,  75,  76,  77,  78,  79,  80,  81,  83,\n",
       "          84,  85,  86,  88,  89,  90,  92,  93,  95,  96,  97,  98, 100,\n",
       "         101, 102, 103, 104, 105, 106, 107, 108, 109, 110, 111, 112, 114,\n",
       "         115, 116, 117, 118, 119, 121, 122, 123, 124, 126, 127, 128, 129,\n",
       "         131, 132, 133, 134, 135, 136, 137, 138, 139, 141, 142, 143, 144,\n",
       "         145, 146, 147, 148, 149, 151, 152, 153, 154, 155, 156, 157, 158,\n",
       "         159, 160, 161, 163, 164, 165, 166, 167, 168, 169, 171, 172, 173,\n",
       "         174, 175, 176, 177, 178, 179, 180, 181, 182, 183, 185, 187, 188,\n",
       "         189, 190, 191, 192, 193, 194, 195, 196, 197, 198, 199, 200, 201,\n",
       "         202, 203, 204, 205, 206, 207, 208, 209, 210, 212, 214, 215, 216,\n",
       "         217, 218, 219, 220, 221, 222, 223, 224, 225, 226, 227, 228, 230,\n",
       "         231, 233, 234, 235, 236, 237, 238, 239, 240, 241, 242, 244, 245,\n",
       "         246, 248, 249, 251, 252, 254, 255, 256, 257, 258, 259, 260, 261,\n",
       "         262, 263, 265, 266, 267, 268, 269, 270, 271, 272, 273, 274, 275,\n",
       "         276, 277, 278, 279, 280, 281, 282, 283, 284, 286, 287, 288, 289,\n",
       "         291, 293, 294, 295, 296, 297, 298, 299, 300, 301, 302, 303, 304,\n",
       "         305, 307, 308, 309, 310, 311, 312, 313, 315, 316, 317, 318, 319,\n",
       "         320, 321, 322, 323, 324, 325, 326, 327, 328, 329, 330, 331, 332,\n",
       "         334, 335, 336, 338, 339, 340, 341, 342, 343, 344, 345, 346, 347,\n",
       "         348, 349, 350, 351, 354, 355, 356, 357, 358, 359, 360, 361, 362,\n",
       "         363, 364, 365, 366, 367, 368, 369, 370, 371, 372, 373, 374, 375,\n",
       "         376, 377, 378, 379, 380, 381, 382, 383, 384, 385, 386, 387, 388,\n",
       "         389, 390, 392, 393, 394, 395, 396, 397, 398, 399, 400, 401, 402,\n",
       "         403, 404, 406, 407, 408, 409, 410, 411, 412, 413, 414, 417, 418,\n",
       "         420, 421, 422, 423, 424, 425, 427, 428, 429, 430, 431, 432, 433,\n",
       "         434, 436, 437, 438, 439, 440, 441, 442, 443, 444, 445, 446, 447,\n",
       "         448, 449, 450, 451, 452, 453, 454, 456, 457, 458, 459, 460, 461,\n",
       "         462, 463, 464, 465, 466, 467, 468, 469, 470, 471, 472, 473, 475,\n",
       "         476, 477, 478, 479, 480, 482, 483, 484, 486, 487, 488, 489, 491,\n",
       "         492, 493, 494, 495, 496, 497, 498, 499, 500, 502, 503, 504, 505]),\n",
       "  array([  5,  18,  25,  36,  41,  82,  87,  91,  94,  99, 113, 120, 125,\n",
       "         130, 140, 150, 162, 170, 184, 186, 211, 213, 229, 232, 243, 247,\n",
       "         250, 253, 264, 285, 290, 292, 306, 314, 333, 337, 352, 353, 391,\n",
       "         405, 415, 416, 419, 426, 435, 455, 474, 481, 485, 490, 501])),\n",
       " (array([  0,   1,   2,   3,   4,   5,   6,   7,   8,   9,  10,  11,  12,\n",
       "          13,  14,  15,  16,  17,  18,  19,  20,  21,  22,  23,  24,  25,\n",
       "          26,  27,  28,  29,  30,  32,  33,  34,  35,  36,  38,  39,  40,\n",
       "          41,  42,  43,  44,  46,  47,  48,  49,  50,  51,  54,  55,  56,\n",
       "          57,  58,  59,  60,  61,  62,  63,  64,  65,  66,  67,  68,  69,\n",
       "          70,  71,  72,  73,  74,  75,  76,  77,  80,  81,  82,  84,  85,\n",
       "          86,  87,  88,  89,  91,  92,  93,  94,  95,  96,  97,  98,  99,\n",
       "         100, 101, 102, 103, 104, 105, 106, 108, 109, 110, 111, 112, 113,\n",
       "         115, 116, 117, 118, 119, 120, 121, 122, 123, 124, 125, 126, 127,\n",
       "         130, 131, 132, 133, 134, 136, 137, 138, 139, 140, 141, 142, 145,\n",
       "         146, 147, 148, 149, 150, 151, 152, 153, 154, 155, 156, 157, 158,\n",
       "         159, 160, 161, 162, 163, 164, 165, 166, 167, 168, 169, 170, 171,\n",
       "         172, 173, 174, 175, 176, 177, 178, 179, 180, 181, 182, 183, 184,\n",
       "         185, 186, 187, 188, 189, 190, 191, 193, 194, 195, 196, 197, 199,\n",
       "         200, 201, 202, 203, 204, 205, 206, 207, 208, 209, 210, 211, 212,\n",
       "         213, 214, 216, 217, 218, 219, 220, 221, 223, 224, 225, 227, 229,\n",
       "         230, 232, 233, 234, 235, 236, 237, 238, 239, 240, 241, 242, 243,\n",
       "         244, 245, 246, 247, 248, 249, 250, 251, 252, 253, 254, 256, 257,\n",
       "         258, 259, 260, 261, 262, 263, 264, 265, 266, 267, 268, 269, 270,\n",
       "         271, 272, 273, 274, 275, 277, 278, 279, 280, 281, 282, 284, 285,\n",
       "         286, 287, 288, 290, 291, 292, 293, 294, 296, 298, 299, 300, 301,\n",
       "         302, 303, 304, 305, 306, 307, 308, 309, 310, 311, 312, 313, 314,\n",
       "         315, 316, 317, 318, 319, 320, 321, 322, 323, 324, 326, 328, 329,\n",
       "         330, 331, 333, 334, 337, 338, 340, 341, 342, 343, 344, 345, 346,\n",
       "         347, 348, 349, 350, 351, 352, 353, 354, 355, 356, 357, 359, 361,\n",
       "         362, 363, 364, 365, 366, 367, 368, 369, 370, 371, 372, 373, 374,\n",
       "         375, 376, 377, 379, 380, 381, 382, 383, 384, 386, 387, 388, 389,\n",
       "         390, 391, 392, 393, 394, 396, 397, 398, 399, 400, 401, 402, 403,\n",
       "         405, 407, 408, 409, 410, 411, 412, 413, 414, 415, 416, 417, 419,\n",
       "         420, 421, 422, 423, 424, 425, 426, 427, 428, 429, 431, 433, 434,\n",
       "         435, 436, 437, 438, 439, 440, 441, 442, 443, 444, 445, 446, 447,\n",
       "         448, 450, 451, 452, 453, 454, 455, 456, 458, 459, 460, 461, 462,\n",
       "         463, 464, 465, 466, 468, 469, 470, 471, 473, 474, 475, 476, 477,\n",
       "         478, 479, 480, 481, 482, 483, 485, 486, 487, 488, 489, 490, 491,\n",
       "         492, 493, 494, 495, 496, 498, 499, 500, 501, 502, 503, 504, 505]),\n",
       "  array([ 31,  37,  45,  52,  53,  78,  79,  83,  90, 107, 114, 128, 129,\n",
       "         135, 143, 144, 192, 198, 215, 222, 226, 228, 231, 255, 276, 283,\n",
       "         289, 295, 297, 325, 327, 332, 335, 336, 339, 358, 360, 378, 385,\n",
       "         395, 404, 406, 418, 430, 432, 449, 457, 467, 472, 484, 497])),\n",
       " (array([  0,   1,   2,   3,   4,   5,   7,   8,   9,  10,  11,  13,  14,\n",
       "          15,  16,  17,  18,  19,  20,  21,  22,  23,  24,  25,  26,  27,\n",
       "          28,  29,  30,  31,  32,  33,  34,  35,  36,  37,  38,  39,  40,\n",
       "          41,  42,  45,  46,  47,  48,  49,  51,  52,  53,  54,  55,  56,\n",
       "          58,  59,  60,  61,  62,  63,  64,  65,  66,  67,  68,  69,  70,\n",
       "          71,  73,  74,  77,  78,  79,  80,  81,  82,  83,  84,  85,  86,\n",
       "          87,  88,  89,  90,  91,  92,  93,  94,  95,  96,  97,  98,  99,\n",
       "         100, 101, 102, 103, 104, 105, 107, 108, 109, 111, 112, 113, 114,\n",
       "         116, 117, 118, 119, 120, 121, 122, 123, 124, 125, 126, 127, 128,\n",
       "         129, 130, 131, 132, 133, 134, 135, 137, 138, 139, 140, 141, 142,\n",
       "         143, 144, 145, 146, 147, 148, 150, 151, 152, 153, 154, 155, 156,\n",
       "         158, 159, 160, 161, 162, 163, 164, 165, 166, 167, 168, 169, 170,\n",
       "         171, 172, 173, 174, 175, 176, 177, 178, 179, 180, 181, 183, 184,\n",
       "         185, 186, 187, 188, 189, 190, 191, 192, 193, 194, 195, 196, 197,\n",
       "         198, 199, 200, 201, 202, 203, 204, 205, 206, 207, 208, 209, 210,\n",
       "         211, 212, 213, 214, 215, 217, 218, 219, 220, 221, 222, 223, 224,\n",
       "         225, 226, 227, 228, 229, 230, 231, 232, 233, 234, 235, 236, 237,\n",
       "         239, 240, 243, 244, 245, 246, 247, 248, 249, 250, 251, 252, 253,\n",
       "         254, 255, 256, 257, 258, 259, 260, 261, 262, 263, 264, 265, 266,\n",
       "         267, 268, 272, 273, 274, 275, 276, 277, 278, 279, 280, 282, 283,\n",
       "         284, 285, 286, 287, 288, 289, 290, 291, 292, 293, 294, 295, 296,\n",
       "         297, 299, 300, 301, 303, 304, 305, 306, 308, 311, 313, 314, 315,\n",
       "         316, 317, 318, 319, 320, 321, 322, 323, 324, 325, 327, 328, 330,\n",
       "         331, 332, 333, 334, 335, 336, 337, 338, 339, 340, 341, 342, 343,\n",
       "         344, 345, 346, 348, 349, 351, 352, 353, 354, 355, 356, 358, 359,\n",
       "         360, 362, 363, 364, 365, 366, 367, 368, 369, 370, 371, 372, 373,\n",
       "         374, 375, 376, 377, 378, 379, 381, 382, 383, 384, 385, 386, 387,\n",
       "         388, 389, 390, 391, 392, 393, 395, 396, 397, 398, 399, 400, 401,\n",
       "         404, 405, 406, 407, 408, 409, 410, 411, 412, 414, 415, 416, 418,\n",
       "         419, 420, 421, 422, 423, 424, 425, 426, 427, 428, 429, 430, 431,\n",
       "         432, 433, 435, 437, 438, 439, 441, 442, 443, 445, 446, 448, 449,\n",
       "         450, 451, 452, 453, 454, 455, 456, 457, 458, 459, 460, 461, 462,\n",
       "         463, 464, 465, 467, 468, 469, 470, 471, 472, 473, 474, 475, 476,\n",
       "         477, 478, 479, 480, 481, 482, 483, 484, 485, 486, 487, 488, 490,\n",
       "         491, 492, 493, 495, 496, 497, 498, 499, 500, 501, 502, 503, 504]),\n",
       "  array([  6,  12,  43,  44,  50,  57,  72,  75,  76, 106, 110, 115, 136,\n",
       "         149, 157, 182, 216, 238, 241, 242, 269, 270, 271, 281, 298, 302,\n",
       "         307, 309, 310, 312, 326, 329, 347, 350, 357, 361, 380, 394, 402,\n",
       "         403, 413, 417, 434, 436, 440, 444, 447, 466, 489, 494, 505])),\n",
       " (array([  0,   2,   3,   4,   5,   6,   7,   8,   9,  10,  12,  13,  14,\n",
       "          16,  17,  18,  19,  20,  21,  23,  24,  25,  26,  27,  28,  29,\n",
       "          30,  31,  32,  33,  34,  35,  36,  37,  39,  40,  41,  43,  44,\n",
       "          45,  47,  48,  49,  50,  51,  52,  53,  54,  55,  56,  57,  59,\n",
       "          61,  62,  63,  64,  65,  67,  69,  70,  71,  72,  73,  74,  75,\n",
       "          76,  77,  78,  79,  80,  82,  83,  84,  85,  86,  87,  88,  89,\n",
       "          90,  91,  93,  94,  95,  96,  97,  98,  99, 100, 101, 102, 103,\n",
       "         104, 105, 106, 107, 108, 109, 110, 111, 113, 114, 115, 116, 118,\n",
       "         120, 121, 122, 123, 124, 125, 128, 129, 130, 131, 132, 133, 135,\n",
       "         136, 137, 138, 139, 140, 141, 142, 143, 144, 145, 146, 147, 148,\n",
       "         149, 150, 151, 152, 153, 154, 155, 156, 157, 158, 159, 160, 161,\n",
       "         162, 163, 164, 165, 166, 167, 168, 169, 170, 172, 173, 174, 175,\n",
       "         177, 178, 179, 180, 181, 182, 183, 184, 185, 186, 187, 188, 191,\n",
       "         192, 193, 194, 195, 197, 198, 199, 200, 201, 202, 203, 204, 205,\n",
       "         206, 208, 209, 210, 211, 212, 213, 214, 215, 216, 218, 219, 220,\n",
       "         221, 222, 223, 224, 226, 227, 228, 229, 231, 232, 233, 234, 235,\n",
       "         236, 238, 239, 240, 241, 242, 243, 244, 245, 246, 247, 248, 249,\n",
       "         250, 251, 252, 253, 254, 255, 257, 258, 259, 260, 261, 262, 263,\n",
       "         264, 265, 266, 267, 269, 270, 271, 272, 273, 274, 275, 276, 278,\n",
       "         279, 280, 281, 282, 283, 284, 285, 286, 288, 289, 290, 291, 292,\n",
       "         293, 294, 295, 296, 297, 298, 299, 300, 301, 302, 303, 304, 305,\n",
       "         306, 307, 308, 309, 310, 311, 312, 313, 314, 315, 316, 317, 318,\n",
       "         320, 321, 322, 323, 324, 325, 326, 327, 328, 329, 330, 332, 333,\n",
       "         334, 335, 336, 337, 338, 339, 340, 341, 342, 343, 344, 345, 346,\n",
       "         347, 348, 349, 350, 351, 352, 353, 355, 356, 357, 358, 359, 360,\n",
       "         361, 363, 364, 366, 367, 368, 369, 370, 372, 373, 374, 375, 376,\n",
       "         377, 378, 379, 380, 381, 382, 383, 384, 385, 386, 387, 388, 389,\n",
       "         390, 391, 392, 393, 394, 395, 396, 397, 398, 399, 400, 401, 402,\n",
       "         403, 404, 405, 406, 407, 409, 410, 412, 413, 414, 415, 416, 417,\n",
       "         418, 419, 420, 421, 422, 423, 424, 425, 426, 427, 428, 429, 430,\n",
       "         432, 434, 435, 436, 438, 440, 441, 442, 444, 446, 447, 448, 449,\n",
       "         450, 451, 452, 453, 454, 455, 456, 457, 458, 459, 460, 461, 462,\n",
       "         463, 464, 465, 466, 467, 468, 469, 470, 471, 472, 474, 475, 476,\n",
       "         477, 478, 479, 480, 481, 482, 483, 484, 485, 486, 487, 488, 489,\n",
       "         490, 491, 492, 493, 494, 496, 497, 498, 499, 501, 502, 503, 505]),\n",
       "  array([  1,  11,  15,  22,  38,  42,  46,  58,  60,  66,  68,  81,  92,\n",
       "         112, 117, 119, 126, 127, 134, 171, 176, 189, 190, 196, 207, 217,\n",
       "         225, 230, 237, 256, 268, 277, 287, 319, 331, 354, 362, 365, 371,\n",
       "         408, 411, 431, 433, 437, 439, 443, 445, 473, 495, 500, 504])),\n",
       " (array([  1,   3,   4,   5,   6,   7,   8,   9,  10,  11,  12,  13,  14,\n",
       "          15,  16,  17,  18,  19,  20,  21,  22,  23,  24,  25,  26,  27,\n",
       "          28,  29,  30,  31,  32,  33,  34,  35,  36,  37,  38,  39,  40,\n",
       "          41,  42,  43,  44,  45,  46,  47,  50,  52,  53,  54,  55,  56,\n",
       "          57,  58,  60,  61,  63,  65,  66,  68,  69,  70,  71,  72,  73,\n",
       "          75,  76,  77,  78,  79,  80,  81,  82,  83,  84,  85,  86,  87,\n",
       "          88,  90,  91,  92,  93,  94,  95,  96,  97,  98,  99, 100, 102,\n",
       "         103, 104, 105, 106, 107, 108, 109, 110, 111, 112, 113, 114, 115,\n",
       "         116, 117, 118, 119, 120, 121, 124, 125, 126, 127, 128, 129, 130,\n",
       "         132, 134, 135, 136, 137, 138, 139, 140, 141, 142, 143, 144, 145,\n",
       "         146, 147, 148, 149, 150, 151, 152, 153, 154, 155, 156, 157, 158,\n",
       "         162, 163, 164, 165, 166, 168, 169, 170, 171, 172, 173, 174, 175,\n",
       "         176, 177, 178, 180, 182, 183, 184, 185, 186, 187, 188, 189, 190,\n",
       "         191, 192, 195, 196, 197, 198, 199, 200, 201, 202, 203, 204, 205,\n",
       "         206, 207, 208, 211, 212, 213, 214, 215, 216, 217, 218, 220, 221,\n",
       "         222, 224, 225, 226, 227, 228, 229, 230, 231, 232, 233, 234, 235,\n",
       "         236, 237, 238, 240, 241, 242, 243, 244, 245, 247, 248, 250, 251,\n",
       "         252, 253, 254, 255, 256, 258, 259, 261, 262, 263, 264, 265, 266,\n",
       "         268, 269, 270, 271, 272, 274, 275, 276, 277, 278, 279, 280, 281,\n",
       "         282, 283, 284, 285, 286, 287, 289, 290, 291, 292, 293, 294, 295,\n",
       "         296, 297, 298, 300, 301, 302, 303, 305, 306, 307, 308, 309, 310,\n",
       "         311, 312, 313, 314, 315, 316, 317, 319, 320, 321, 322, 323, 325,\n",
       "         326, 327, 328, 329, 330, 331, 332, 333, 334, 335, 336, 337, 338,\n",
       "         339, 340, 341, 342, 343, 344, 346, 347, 348, 349, 350, 351, 352,\n",
       "         353, 354, 355, 356, 357, 358, 359, 360, 361, 362, 363, 364, 365,\n",
       "         366, 368, 369, 370, 371, 372, 373, 374, 375, 376, 377, 378, 379,\n",
       "         380, 381, 382, 383, 384, 385, 386, 387, 388, 389, 390, 391, 393,\n",
       "         394, 395, 397, 398, 399, 400, 402, 403, 404, 405, 406, 408, 409,\n",
       "         410, 411, 412, 413, 415, 416, 417, 418, 419, 421, 423, 424, 425,\n",
       "         426, 427, 428, 429, 430, 431, 432, 433, 434, 435, 436, 437, 438,\n",
       "         439, 440, 441, 442, 443, 444, 445, 446, 447, 448, 449, 450, 451,\n",
       "         452, 453, 454, 455, 456, 457, 458, 459, 460, 461, 462, 463, 464,\n",
       "         465, 466, 467, 468, 469, 470, 471, 472, 473, 474, 475, 476, 477,\n",
       "         478, 479, 480, 481, 483, 484, 485, 487, 488, 489, 490, 491, 492,\n",
       "         493, 494, 495, 496, 497, 498, 499, 500, 501, 502, 503, 504, 505]),\n",
       "  array([  0,   2,  48,  49,  51,  59,  62,  64,  67,  74,  89, 101, 122,\n",
       "         123, 131, 133, 159, 160, 161, 167, 179, 181, 193, 194, 209, 210,\n",
       "         219, 223, 239, 246, 249, 257, 260, 267, 273, 288, 299, 304, 318,\n",
       "         324, 345, 367, 392, 396, 401, 407, 414, 420, 422, 482, 486])),\n",
       " (array([  0,   1,   2,   3,   4,   5,   6,   7,  10,  11,  12,  13,  15,\n",
       "          16,  17,  18,  19,  21,  22,  23,  24,  25,  26,  27,  28,  29,\n",
       "          30,  31,  32,  34,  36,  37,  38,  39,  40,  41,  42,  43,  44,\n",
       "          45,  46,  48,  49,  50,  51,  52,  53,  54,  55,  56,  57,  58,\n",
       "          59,  60,  61,  62,  64,  66,  67,  68,  69,  70,  71,  72,  73,\n",
       "          74,  75,  76,  77,  78,  79,  80,  81,  82,  83,  84,  85,  86,\n",
       "          87,  88,  89,  90,  91,  92,  93,  94,  95,  97,  98,  99, 100,\n",
       "         101, 102, 103, 104, 105, 106, 107, 108, 110, 111, 112, 113, 114,\n",
       "         115, 116, 117, 118, 119, 120, 121, 122, 123, 124, 125, 126, 127,\n",
       "         128, 129, 130, 131, 133, 134, 135, 136, 137, 139, 140, 141, 142,\n",
       "         143, 144, 145, 146, 147, 149, 150, 153, 154, 155, 156, 157, 159,\n",
       "         160, 161, 162, 163, 164, 165, 166, 167, 168, 169, 170, 171, 172,\n",
       "         173, 174, 175, 176, 177, 178, 179, 180, 181, 182, 183, 184, 185,\n",
       "         186, 188, 189, 190, 191, 192, 193, 194, 195, 196, 197, 198, 199,\n",
       "         200, 201, 202, 203, 204, 205, 207, 208, 209, 210, 211, 213, 215,\n",
       "         216, 217, 218, 219, 220, 221, 222, 223, 225, 226, 228, 229, 230,\n",
       "         231, 232, 234, 235, 236, 237, 238, 239, 240, 241, 242, 243, 244,\n",
       "         245, 246, 247, 248, 249, 250, 253, 254, 255, 256, 257, 258, 259,\n",
       "         260, 261, 262, 263, 264, 265, 266, 267, 268, 269, 270, 271, 272,\n",
       "         273, 274, 275, 276, 277, 278, 279, 280, 281, 283, 284, 285, 287,\n",
       "         288, 289, 290, 291, 292, 294, 295, 296, 297, 298, 299, 301, 302,\n",
       "         303, 304, 306, 307, 308, 309, 310, 311, 312, 313, 314, 315, 316,\n",
       "         317, 318, 319, 320, 321, 324, 325, 326, 327, 328, 329, 330, 331,\n",
       "         332, 333, 334, 335, 336, 337, 338, 339, 340, 341, 343, 344, 345,\n",
       "         346, 347, 349, 350, 351, 352, 353, 354, 356, 357, 358, 359, 360,\n",
       "         361, 362, 363, 364, 365, 366, 367, 368, 371, 372, 373, 375, 376,\n",
       "         378, 380, 381, 382, 383, 385, 387, 388, 389, 390, 391, 392, 393,\n",
       "         394, 395, 396, 397, 398, 399, 400, 401, 402, 403, 404, 405, 406,\n",
       "         407, 408, 410, 411, 412, 413, 414, 415, 416, 417, 418, 419, 420,\n",
       "         421, 422, 423, 424, 425, 426, 428, 429, 430, 431, 432, 433, 434,\n",
       "         435, 436, 437, 438, 439, 440, 441, 442, 443, 444, 445, 446, 447,\n",
       "         448, 449, 450, 451, 452, 453, 454, 455, 456, 457, 458, 459, 460,\n",
       "         461, 462, 463, 465, 466, 467, 468, 470, 471, 472, 473, 474, 476,\n",
       "         477, 480, 481, 482, 483, 484, 485, 486, 487, 488, 489, 490, 491,\n",
       "         492, 493, 494, 495, 496, 497, 498, 499, 500, 501, 502, 503, 504,\n",
       "         505]),\n",
       "  array([  8,   9,  14,  20,  33,  35,  47,  63,  65,  96, 109, 132, 138,\n",
       "         148, 151, 152, 158, 187, 206, 212, 214, 224, 227, 233, 251, 252,\n",
       "         282, 286, 293, 300, 305, 322, 323, 342, 348, 355, 369, 370, 374,\n",
       "         377, 379, 384, 386, 409, 427, 464, 469, 475, 478, 479])),\n",
       " (array([  0,   1,   2,   4,   5,   6,   7,   8,   9,  10,  11,  12,  13,\n",
       "          14,  15,  17,  18,  19,  20,  21,  22,  23,  24,  25,  26,  29,\n",
       "          30,  31,  32,  33,  34,  35,  36,  37,  38,  40,  41,  42,  43,\n",
       "          44,  45,  46,  47,  48,  49,  50,  51,  52,  53,  54,  55,  56,\n",
       "          57,  58,  59,  60,  61,  62,  63,  64,  65,  66,  67,  68,  69,\n",
       "          70,  71,  72,  73,  74,  75,  76,  77,  78,  79,  80,  81,  82,\n",
       "          83,  84,  85,  87,  88,  89,  90,  91,  92,  94,  95,  96,  97,\n",
       "          99, 100, 101, 102, 104, 105, 106, 107, 109, 110, 111, 112, 113,\n",
       "         114, 115, 117, 118, 119, 120, 121, 122, 123, 125, 126, 127, 128,\n",
       "         129, 130, 131, 132, 133, 134, 135, 136, 137, 138, 139, 140, 141,\n",
       "         143, 144, 145, 146, 147, 148, 149, 150, 151, 152, 155, 157, 158,\n",
       "         159, 160, 161, 162, 164, 166, 167, 168, 169, 170, 171, 172, 173,\n",
       "         174, 175, 176, 177, 178, 179, 181, 182, 183, 184, 185, 186, 187,\n",
       "         188, 189, 190, 191, 192, 193, 194, 195, 196, 197, 198, 199, 201,\n",
       "         203, 204, 205, 206, 207, 208, 209, 210, 211, 212, 213, 214, 215,\n",
       "         216, 217, 218, 219, 221, 222, 223, 224, 225, 226, 227, 228, 229,\n",
       "         230, 231, 232, 233, 236, 237, 238, 239, 240, 241, 242, 243, 246,\n",
       "         247, 248, 249, 250, 251, 252, 253, 255, 256, 257, 258, 259, 260,\n",
       "         262, 263, 264, 265, 266, 267, 268, 269, 270, 271, 273, 274, 275,\n",
       "         276, 277, 278, 279, 281, 282, 283, 284, 285, 286, 287, 288, 289,\n",
       "         290, 291, 292, 293, 294, 295, 296, 297, 298, 299, 300, 302, 303,\n",
       "         304, 305, 306, 307, 308, 309, 310, 311, 312, 313, 314, 315, 316,\n",
       "         317, 318, 319, 321, 322, 323, 324, 325, 326, 327, 328, 329, 330,\n",
       "         331, 332, 333, 334, 335, 336, 337, 338, 339, 340, 342, 343, 344,\n",
       "         345, 346, 347, 348, 350, 351, 352, 353, 354, 355, 356, 357, 358,\n",
       "         359, 360, 361, 362, 363, 364, 365, 367, 368, 369, 370, 371, 373,\n",
       "         374, 375, 376, 377, 378, 379, 380, 381, 382, 383, 384, 385, 386,\n",
       "         387, 388, 389, 391, 392, 393, 394, 395, 396, 398, 400, 401, 402,\n",
       "         403, 404, 405, 406, 407, 408, 409, 411, 412, 413, 414, 415, 416,\n",
       "         417, 418, 419, 420, 422, 423, 424, 426, 427, 429, 430, 431, 432,\n",
       "         433, 434, 435, 436, 437, 438, 439, 440, 441, 442, 443, 444, 445,\n",
       "         446, 447, 449, 451, 453, 455, 456, 457, 458, 459, 460, 461, 462,\n",
       "         463, 464, 466, 467, 468, 469, 470, 471, 472, 473, 474, 475, 476,\n",
       "         477, 478, 479, 480, 481, 482, 483, 484, 485, 486, 487, 489, 490,\n",
       "         491, 493, 494, 495, 496, 497, 498, 499, 500, 501, 502, 503, 504,\n",
       "         505]),\n",
       "  array([  3,  16,  27,  28,  39,  86,  93,  98, 103, 108, 116, 124, 142,\n",
       "         153, 154, 156, 163, 165, 180, 200, 202, 220, 234, 235, 244, 245,\n",
       "         254, 261, 272, 280, 301, 320, 341, 349, 366, 372, 390, 397, 399,\n",
       "         410, 421, 425, 428, 448, 450, 452, 454, 465, 488, 492])),\n",
       " (array([  0,   1,   2,   3,   5,   6,   8,   9,  10,  11,  12,  13,  14,\n",
       "          15,  16,  17,  18,  20,  22,  23,  25,  26,  27,  28,  29,  30,\n",
       "          31,  32,  33,  35,  36,  37,  38,  39,  40,  41,  42,  43,  44,\n",
       "          45,  46,  47,  48,  49,  50,  51,  52,  53,  54,  55,  57,  58,\n",
       "          59,  60,  61,  62,  63,  64,  65,  66,  67,  68,  69,  70,  72,\n",
       "          74,  75,  76,  78,  79,  81,  82,  83,  84,  85,  86,  87,  89,\n",
       "          90,  91,  92,  93,  94,  96,  97,  98,  99, 100, 101, 103, 106,\n",
       "         107, 108, 109, 110, 111, 112, 113, 114, 115, 116, 117, 118, 119,\n",
       "         120, 122, 123, 124, 125, 126, 127, 128, 129, 130, 131, 132, 133,\n",
       "         134, 135, 136, 138, 139, 140, 142, 143, 144, 145, 146, 147, 148,\n",
       "         149, 150, 151, 152, 153, 154, 155, 156, 157, 158, 159, 160, 161,\n",
       "         162, 163, 165, 167, 169, 170, 171, 173, 174, 175, 176, 177, 178,\n",
       "         179, 180, 181, 182, 183, 184, 185, 186, 187, 189, 190, 191, 192,\n",
       "         193, 194, 195, 196, 197, 198, 199, 200, 201, 202, 203, 204, 205,\n",
       "         206, 207, 208, 209, 210, 211, 212, 213, 214, 215, 216, 217, 218,\n",
       "         219, 220, 221, 222, 223, 224, 225, 226, 227, 228, 229, 230, 231,\n",
       "         232, 233, 234, 235, 237, 238, 239, 240, 241, 242, 243, 244, 245,\n",
       "         246, 247, 249, 250, 251, 252, 253, 254, 255, 256, 257, 259, 260,\n",
       "         261, 262, 263, 264, 265, 266, 267, 268, 269, 270, 271, 272, 273,\n",
       "         274, 275, 276, 277, 278, 279, 280, 281, 282, 283, 284, 285, 286,\n",
       "         287, 288, 289, 290, 292, 293, 294, 295, 297, 298, 299, 300, 301,\n",
       "         302, 303, 304, 305, 306, 307, 308, 309, 310, 311, 312, 313, 314,\n",
       "         316, 317, 318, 319, 320, 322, 323, 324, 325, 326, 327, 328, 329,\n",
       "         330, 331, 332, 333, 334, 335, 336, 337, 338, 339, 341, 342, 343,\n",
       "         344, 345, 346, 347, 348, 349, 350, 351, 352, 353, 354, 355, 357,\n",
       "         358, 359, 360, 361, 362, 364, 365, 366, 367, 368, 369, 370, 371,\n",
       "         372, 373, 374, 375, 376, 377, 378, 379, 380, 381, 383, 384, 385,\n",
       "         386, 387, 388, 389, 390, 391, 392, 394, 395, 396, 397, 398, 399,\n",
       "         400, 401, 402, 403, 404, 405, 406, 407, 408, 409, 410, 411, 412,\n",
       "         413, 414, 415, 416, 417, 418, 419, 420, 421, 422, 425, 426, 427,\n",
       "         428, 430, 431, 432, 433, 434, 435, 436, 437, 438, 439, 440, 441,\n",
       "         442, 443, 444, 445, 446, 447, 448, 449, 450, 452, 454, 455, 456,\n",
       "         457, 458, 459, 463, 464, 465, 466, 467, 468, 469, 470, 472, 473,\n",
       "         474, 475, 478, 479, 480, 481, 482, 483, 484, 485, 486, 487, 488,\n",
       "         489, 490, 491, 492, 493, 494, 495, 497, 498, 499, 500, 501, 504,\n",
       "         505]),\n",
       "  array([  4,   7,  19,  21,  24,  34,  56,  71,  73,  77,  80,  88,  95,\n",
       "         102, 104, 105, 121, 137, 141, 164, 166, 168, 172, 188, 236, 248,\n",
       "         258, 291, 296, 315, 321, 340, 356, 363, 382, 393, 423, 424, 429,\n",
       "         451, 453, 460, 461, 462, 471, 476, 477, 496, 502, 503])),\n",
       " (array([  0,   1,   2,   3,   4,   5,   6,   7,   8,   9,  11,  12,  13,\n",
       "          14,  15,  16,  18,  19,  20,  21,  22,  24,  25,  26,  27,  28,\n",
       "          29,  31,  33,  34,  35,  36,  37,  38,  39,  40,  41,  42,  43,\n",
       "          44,  45,  46,  47,  48,  49,  50,  51,  52,  53,  55,  56,  57,\n",
       "          58,  59,  60,  61,  62,  63,  64,  65,  66,  67,  68,  69,  70,\n",
       "          71,  72,  73,  74,  75,  76,  77,  78,  79,  80,  81,  82,  83,\n",
       "          86,  87,  88,  89,  90,  91,  92,  93,  94,  95,  96,  97,  98,\n",
       "          99, 101, 102, 103, 104, 105, 106, 107, 108, 109, 110, 111, 112,\n",
       "         113, 114, 115, 116, 117, 119, 120, 121, 122, 123, 124, 125, 126,\n",
       "         127, 128, 129, 130, 131, 132, 133, 134, 135, 136, 137, 138, 139,\n",
       "         140, 141, 142, 143, 144, 145, 146, 147, 148, 149, 150, 151, 152,\n",
       "         153, 154, 155, 156, 157, 158, 159, 160, 161, 162, 163, 164, 165,\n",
       "         166, 167, 168, 170, 171, 172, 174, 176, 177, 179, 180, 181, 182,\n",
       "         184, 186, 187, 188, 189, 190, 191, 192, 193, 194, 195, 196, 197,\n",
       "         198, 200, 201, 202, 204, 205, 206, 207, 209, 210, 211, 212, 213,\n",
       "         214, 215, 216, 217, 219, 220, 221, 222, 223, 224, 225, 226, 227,\n",
       "         228, 229, 230, 231, 232, 233, 234, 235, 236, 237, 238, 239, 241,\n",
       "         242, 243, 244, 245, 246, 247, 248, 249, 250, 251, 252, 253, 254,\n",
       "         255, 256, 257, 258, 260, 261, 264, 265, 266, 267, 268, 269, 270,\n",
       "         271, 272, 273, 275, 276, 277, 278, 279, 280, 281, 282, 283, 284,\n",
       "         285, 286, 287, 288, 289, 290, 291, 292, 293, 295, 296, 297, 298,\n",
       "         299, 300, 301, 302, 304, 305, 306, 307, 309, 310, 311, 312, 314,\n",
       "         315, 317, 318, 319, 320, 321, 322, 323, 324, 325, 326, 327, 328,\n",
       "         329, 330, 331, 332, 333, 335, 336, 337, 338, 339, 340, 341, 342,\n",
       "         344, 345, 346, 347, 348, 349, 350, 351, 352, 353, 354, 355, 356,\n",
       "         357, 358, 360, 361, 362, 363, 364, 365, 366, 367, 369, 370, 371,\n",
       "         372, 374, 376, 377, 378, 379, 380, 382, 384, 385, 386, 387, 389,\n",
       "         390, 391, 392, 393, 394, 395, 396, 397, 399, 401, 402, 403, 404,\n",
       "         405, 406, 407, 408, 409, 410, 411, 413, 414, 415, 416, 417, 418,\n",
       "         419, 420, 421, 422, 423, 424, 425, 426, 427, 428, 429, 430, 431,\n",
       "         432, 433, 434, 435, 436, 437, 439, 440, 441, 442, 443, 444, 445,\n",
       "         447, 448, 449, 450, 451, 452, 453, 454, 455, 456, 457, 458, 460,\n",
       "         461, 462, 463, 464, 465, 466, 467, 468, 469, 470, 471, 472, 473,\n",
       "         474, 475, 476, 477, 478, 479, 480, 481, 482, 484, 485, 486, 488,\n",
       "         489, 490, 492, 494, 495, 496, 497, 499, 500, 501, 502, 503, 504,\n",
       "         505]),\n",
       "  array([ 10,  17,  23,  30,  32,  54,  84,  85, 100, 118, 169, 173, 175,\n",
       "         178, 183, 185, 199, 203, 208, 218, 240, 259, 262, 263, 274, 294,\n",
       "         303, 308, 313, 316, 334, 343, 359, 368, 373, 375, 381, 383, 388,\n",
       "         398, 400, 412, 438, 446, 459, 483, 487, 491, 493, 498]))]"
      ]
     },
     "execution_count": 39,
     "metadata": {},
     "output_type": "execute_result"
    }
   ],
   "source": [
    "from sklearn import model_selection\n",
    "\n",
    "kf = model_selection.KFold(n_splits=10, shuffle=True)\n",
    "list(kf.split(X, y))"
   ]
  },
  {
   "cell_type": "code",
   "execution_count": 40,
   "metadata": {},
   "outputs": [
    {
     "name": "stdout",
     "output_type": "stream",
     "text": [
      "~~~~ CROSS VALIDATION each fold ~~~~\n",
      "Model 1\n",
      "MSE: 23.91098821989395\n",
      "R2: 0.739493969883259\n",
      "\n",
      "Model 2\n",
      "MSE: 26.60256580690465\n",
      "R2: 0.7398507611194445\n",
      "\n",
      "Model 3\n",
      "MSE: 22.179237316777723\n",
      "R2: 0.7393731508326755\n",
      "\n",
      "Model 4\n",
      "MSE: 13.334734702210437\n",
      "R2: 0.7398422690315346\n",
      "\n",
      "Model 5\n",
      "MSE: 16.0679361444186\n",
      "R2: 0.7395053230306176\n",
      "\n",
      "Model 6\n",
      "MSE: 21.588963420761637\n",
      "R2: 0.739682837229341\n",
      "\n",
      "Model 7\n",
      "MSE: 18.03408112435509\n",
      "R2: 0.7396409193370177\n",
      "\n",
      "Model 8\n",
      "MSE: 40.60478739426585\n",
      "R2: 0.7383264142930563\n",
      "\n",
      "Model 9\n",
      "MSE: 37.761214105906724\n",
      "R2: 0.7394482088981431\n",
      "\n",
      "Model 10\n",
      "MSE: 15.929528713859018\n",
      "R2: 0.7403429527052168\n",
      "\n",
      "~~~~ SUMMARY OF CROSS VALIDATION ~~~~\n",
      "Mean of MSE for all folds: 23.601403694935367\n",
      "Mean of R2 for all folds: 0.7395506806360307\n"
     ]
    }
   ],
   "source": [
    "mse_values = []\n",
    "scores = []\n",
    "n = 0\n",
    "\n",
    "print(\"~~~~ CROSS VALIDATION each fold ~~~~\")\n",
    "for train_index, test_index in kf.split(X, y):\n",
    "    lr = LinearRegression().fit(X.iloc[train_index], y.iloc[train_index])\n",
    "    \n",
    "    mse_values.append(metrics.mean_squared_error(y.iloc[test_index], lr.predict(X.iloc[test_index])))\n",
    "    scores.append(lr.score(X, y))\n",
    "    \n",
    "    n += 1\n",
    "    \n",
    "    #print(X.iloc[train_index, :])\n",
    "    print('Model {}'.format(n))\n",
    "    print('MSE: {}'.format(mse_values[n-1]))\n",
    "    print('R2: {}\\n'.format(scores[n-1]))\n",
    "\n",
    "\n",
    "print(\"~~~~ SUMMARY OF CROSS VALIDATION ~~~~\")\n",
    "print('Mean of MSE for all folds: {}'.format(np.mean(mse_values)))\n",
    "print('Mean of R2 for all folds: {}'.format(np.mean(scores)))"
   ]
  },
  {
   "cell_type": "markdown",
   "metadata": {},
   "source": [
    "- How well did your model perform on the training set compared to the null model? What does this result tell you about the bias and/or variance of your model?"
   ]
  },
  {
   "cell_type": "markdown",
   "metadata": {},
   "source": []
  },
  {
   "cell_type": "markdown",
   "metadata": {},
   "source": [
    "- How well did your model perform on the test set compared to how well it performed on the training set? What does this result tell you about the bias and/or variance of your model?"
   ]
  },
  {
   "cell_type": "markdown",
   "metadata": {},
   "source": []
  },
  {
   "cell_type": "markdown",
   "metadata": {},
   "source": [
    "- How much of a bias problem does your model appear to have? Why do you say that?"
   ]
  },
  {
   "cell_type": "markdown",
   "metadata": {},
   "source": []
  },
  {
   "cell_type": "markdown",
   "metadata": {},
   "source": [
    "- How much of a variance problem does your model appear to have? Why do you say that?"
   ]
  },
  {
   "cell_type": "markdown",
   "metadata": {},
   "source": []
  },
  {
   "cell_type": "markdown",
   "metadata": {},
   "source": [
    "- Add or remove variables from your model to address this problem, and get its test-set MSE using ten-fold cross validation. Did your model get better or worse? By how much?"
   ]
  },
  {
   "cell_type": "markdown",
   "metadata": {},
   "source": []
  },
  {
   "cell_type": "markdown",
   "metadata": {},
   "source": [
    "- **Bonus:** Find a *transformation* of one of more of your feature variables that allows you to create a model that performs better on the test set than your previous model. \n",
    "\n",
    "Possible examples:\n",
    "    - Square a column\n",
    "    - Take the square root of a column\n",
    "    - Take the logarithm of a column\n",
    "    - Multiply two columns together\n",
    "\n",
    "Tip: Look at scatterplots of MEDV against your column(s) before and after applying the transformation. The transformation should help if it makes the relationship more linear."
   ]
  },
  {
   "cell_type": "code",
   "execution_count": null,
   "metadata": {},
   "outputs": [],
   "source": []
  },
  {
   "cell_type": "markdown",
   "metadata": {},
   "source": [
    "# KNN Practice"
   ]
  },
  {
   "cell_type": "code",
   "execution_count": 20,
   "metadata": {},
   "outputs": [],
   "source": [
    "# Read the iris data into a DataFrame\n",
    "url = 'http://archive.ics.uci.edu/ml/machine-learning-databases/iris/iris.data'\n",
    "\n",
    "col_names = ['sepal_length', 'sepal_width', 'petal_length', 'petal_width', 'species']\n",
    "iris = pd.read_csv(url, header=None, names=col_names)"
   ]
  },
  {
   "cell_type": "code",
   "execution_count": 22,
   "metadata": {},
   "outputs": [
    {
     "data": {
      "text/html": [
       "<div>\n",
       "<style scoped>\n",
       "    .dataframe tbody tr th:only-of-type {\n",
       "        vertical-align: middle;\n",
       "    }\n",
       "\n",
       "    .dataframe tbody tr th {\n",
       "        vertical-align: top;\n",
       "    }\n",
       "\n",
       "    .dataframe thead th {\n",
       "        text-align: right;\n",
       "    }\n",
       "</style>\n",
       "<table border=\"1\" class=\"dataframe\">\n",
       "  <thead>\n",
       "    <tr style=\"text-align: right;\">\n",
       "      <th></th>\n",
       "      <th>sepal_length</th>\n",
       "      <th>sepal_width</th>\n",
       "      <th>petal_length</th>\n",
       "      <th>petal_width</th>\n",
       "      <th>species</th>\n",
       "    </tr>\n",
       "  </thead>\n",
       "  <tbody>\n",
       "    <tr>\n",
       "      <th>0</th>\n",
       "      <td>5.1</td>\n",
       "      <td>3.5</td>\n",
       "      <td>1.4</td>\n",
       "      <td>0.2</td>\n",
       "      <td>Iris-setosa</td>\n",
       "    </tr>\n",
       "    <tr>\n",
       "      <th>1</th>\n",
       "      <td>4.9</td>\n",
       "      <td>3.0</td>\n",
       "      <td>1.4</td>\n",
       "      <td>0.2</td>\n",
       "      <td>Iris-setosa</td>\n",
       "    </tr>\n",
       "    <tr>\n",
       "      <th>2</th>\n",
       "      <td>4.7</td>\n",
       "      <td>3.2</td>\n",
       "      <td>1.3</td>\n",
       "      <td>0.2</td>\n",
       "      <td>Iris-setosa</td>\n",
       "    </tr>\n",
       "    <tr>\n",
       "      <th>3</th>\n",
       "      <td>4.6</td>\n",
       "      <td>3.1</td>\n",
       "      <td>1.5</td>\n",
       "      <td>0.2</td>\n",
       "      <td>Iris-setosa</td>\n",
       "    </tr>\n",
       "    <tr>\n",
       "      <th>4</th>\n",
       "      <td>5.0</td>\n",
       "      <td>3.6</td>\n",
       "      <td>1.4</td>\n",
       "      <td>0.2</td>\n",
       "      <td>Iris-setosa</td>\n",
       "    </tr>\n",
       "  </tbody>\n",
       "</table>\n",
       "</div>"
      ],
      "text/plain": [
       "   sepal_length  sepal_width  petal_length  petal_width      species\n",
       "0           5.1          3.5           1.4          0.2  Iris-setosa\n",
       "1           4.9          3.0           1.4          0.2  Iris-setosa\n",
       "2           4.7          3.2           1.3          0.2  Iris-setosa\n",
       "3           4.6          3.1           1.5          0.2  Iris-setosa\n",
       "4           5.0          3.6           1.4          0.2  Iris-setosa"
      ]
     },
     "execution_count": 22,
     "metadata": {},
     "output_type": "execute_result"
    }
   ],
   "source": [
    "iris.head()\n"
   ]
  },
  {
   "cell_type": "code",
   "execution_count": 23,
   "metadata": {},
   "outputs": [],
   "source": [
    "# Increase the default figure and font sizes for easier viewing\n",
    "plt.rcParams['figure.figsize'] = (6, 4)\n",
    "plt.rcParams['font.size'] = 14"
   ]
  },
  {
   "cell_type": "code",
   "execution_count": 24,
   "metadata": {},
   "outputs": [],
   "source": [
    "# Create a custom colormap\n",
    "from matplotlib.colors import ListedColormap\n",
    "\n",
    "cmap_bold = ListedColormap(['#FF0000', '#00FF00', '#0000FF'])"
   ]
  },
  {
   "cell_type": "markdown",
   "metadata": {},
   "source": [
    "- Map each iris species to a number. Let's use Iris-setosa':0, 'Iris-versicolor':1, 'Iris-virginica':2 and assign the result to a column called 'species_num'."
   ]
  },
  {
   "cell_type": "code",
   "execution_count": 26,
   "metadata": {},
   "outputs": [
    {
     "data": {
      "text/html": [
       "<div>\n",
       "<style scoped>\n",
       "    .dataframe tbody tr th:only-of-type {\n",
       "        vertical-align: middle;\n",
       "    }\n",
       "\n",
       "    .dataframe tbody tr th {\n",
       "        vertical-align: top;\n",
       "    }\n",
       "\n",
       "    .dataframe thead th {\n",
       "        text-align: right;\n",
       "    }\n",
       "</style>\n",
       "<table border=\"1\" class=\"dataframe\">\n",
       "  <thead>\n",
       "    <tr style=\"text-align: right;\">\n",
       "      <th></th>\n",
       "      <th>sepal_length</th>\n",
       "      <th>sepal_width</th>\n",
       "      <th>petal_length</th>\n",
       "      <th>petal_width</th>\n",
       "      <th>species</th>\n",
       "      <th>species_num</th>\n",
       "    </tr>\n",
       "  </thead>\n",
       "  <tbody>\n",
       "    <tr>\n",
       "      <th>0</th>\n",
       "      <td>5.1</td>\n",
       "      <td>3.5</td>\n",
       "      <td>1.4</td>\n",
       "      <td>0.2</td>\n",
       "      <td>Iris-setosa</td>\n",
       "      <td>0</td>\n",
       "    </tr>\n",
       "    <tr>\n",
       "      <th>1</th>\n",
       "      <td>4.9</td>\n",
       "      <td>3.0</td>\n",
       "      <td>1.4</td>\n",
       "      <td>0.2</td>\n",
       "      <td>Iris-setosa</td>\n",
       "      <td>0</td>\n",
       "    </tr>\n",
       "    <tr>\n",
       "      <th>2</th>\n",
       "      <td>4.7</td>\n",
       "      <td>3.2</td>\n",
       "      <td>1.3</td>\n",
       "      <td>0.2</td>\n",
       "      <td>Iris-setosa</td>\n",
       "      <td>0</td>\n",
       "    </tr>\n",
       "    <tr>\n",
       "      <th>3</th>\n",
       "      <td>4.6</td>\n",
       "      <td>3.1</td>\n",
       "      <td>1.5</td>\n",
       "      <td>0.2</td>\n",
       "      <td>Iris-setosa</td>\n",
       "      <td>0</td>\n",
       "    </tr>\n",
       "    <tr>\n",
       "      <th>4</th>\n",
       "      <td>5.0</td>\n",
       "      <td>3.6</td>\n",
       "      <td>1.4</td>\n",
       "      <td>0.2</td>\n",
       "      <td>Iris-setosa</td>\n",
       "      <td>0</td>\n",
       "    </tr>\n",
       "  </tbody>\n",
       "</table>\n",
       "</div>"
      ],
      "text/plain": [
       "   sepal_length  sepal_width  petal_length  petal_width      species  \\\n",
       "0           5.1          3.5           1.4          0.2  Iris-setosa   \n",
       "1           4.9          3.0           1.4          0.2  Iris-setosa   \n",
       "2           4.7          3.2           1.3          0.2  Iris-setosa   \n",
       "3           4.6          3.1           1.5          0.2  Iris-setosa   \n",
       "4           5.0          3.6           1.4          0.2  Iris-setosa   \n",
       "\n",
       "   species_num  \n",
       "0            0  \n",
       "1            0  \n",
       "2            0  \n",
       "3            0  \n",
       "4            0  "
      ]
     },
     "execution_count": 26,
     "metadata": {},
     "output_type": "execute_result"
    }
   ],
   "source": [
    "iris.loc[:,'species_num'] = iris.loc[:, 'species'].map({'Iris-setosa':0, 'Iris-versicolor':1, 'Iris-virginica':2})\n",
    "iris.head()"
   ]
  },
  {
   "cell_type": "markdown",
   "metadata": {},
   "source": [
    "- Clean Up Data and Perform Exporatory Data Analysis"
   ]
  },
  {
   "cell_type": "markdown",
   "metadata": {},
   "source": [
    "**Items to include:**\n",
    "\n",
    "- Data shape\n",
    "- Data types\n",
    "- Count of null values by column\n",
    "- Basic summary statistics\n",
    "- Number of unique values for each column\n",
    "- Plot of the distribution of each column (e.g. histogram, bar plot, or box plot) grouped by species"
   ]
  },
  {
   "cell_type": "code",
   "execution_count": 27,
   "metadata": {},
   "outputs": [
    {
     "data": {
      "text/plain": [
       "(150, 6)"
      ]
     },
     "execution_count": 27,
     "metadata": {},
     "output_type": "execute_result"
    }
   ],
   "source": [
    "iris.shape"
   ]
  },
  {
   "cell_type": "code",
   "execution_count": 28,
   "metadata": {},
   "outputs": [
    {
     "data": {
      "text/plain": [
       "sepal_length    float64\n",
       "sepal_width     float64\n",
       "petal_length    float64\n",
       "petal_width     float64\n",
       "species          object\n",
       "species_num       int64\n",
       "dtype: object"
      ]
     },
     "execution_count": 28,
     "metadata": {},
     "output_type": "execute_result"
    }
   ],
   "source": [
    "iris.dtypes"
   ]
  },
  {
   "cell_type": "code",
   "execution_count": 29,
   "metadata": {},
   "outputs": [
    {
     "data": {
      "text/plain": [
       "sepal_length    0\n",
       "sepal_width     0\n",
       "petal_length    0\n",
       "petal_width     0\n",
       "species         0\n",
       "species_num     0\n",
       "dtype: int64"
      ]
     },
     "execution_count": 29,
     "metadata": {},
     "output_type": "execute_result"
    }
   ],
   "source": [
    "iris.isnull().sum()"
   ]
  },
  {
   "cell_type": "code",
   "execution_count": 30,
   "metadata": {},
   "outputs": [
    {
     "data": {
      "text/html": [
       "<div>\n",
       "<style scoped>\n",
       "    .dataframe tbody tr th:only-of-type {\n",
       "        vertical-align: middle;\n",
       "    }\n",
       "\n",
       "    .dataframe tbody tr th {\n",
       "        vertical-align: top;\n",
       "    }\n",
       "\n",
       "    .dataframe thead th {\n",
       "        text-align: right;\n",
       "    }\n",
       "</style>\n",
       "<table border=\"1\" class=\"dataframe\">\n",
       "  <thead>\n",
       "    <tr style=\"text-align: right;\">\n",
       "      <th></th>\n",
       "      <th>sepal_length</th>\n",
       "      <th>sepal_width</th>\n",
       "      <th>petal_length</th>\n",
       "      <th>petal_width</th>\n",
       "      <th>species_num</th>\n",
       "    </tr>\n",
       "  </thead>\n",
       "  <tbody>\n",
       "    <tr>\n",
       "      <th>count</th>\n",
       "      <td>150.000000</td>\n",
       "      <td>150.000000</td>\n",
       "      <td>150.000000</td>\n",
       "      <td>150.000000</td>\n",
       "      <td>150.000000</td>\n",
       "    </tr>\n",
       "    <tr>\n",
       "      <th>mean</th>\n",
       "      <td>5.843333</td>\n",
       "      <td>3.054000</td>\n",
       "      <td>3.758667</td>\n",
       "      <td>1.198667</td>\n",
       "      <td>1.000000</td>\n",
       "    </tr>\n",
       "    <tr>\n",
       "      <th>std</th>\n",
       "      <td>0.828066</td>\n",
       "      <td>0.433594</td>\n",
       "      <td>1.764420</td>\n",
       "      <td>0.763161</td>\n",
       "      <td>0.819232</td>\n",
       "    </tr>\n",
       "    <tr>\n",
       "      <th>min</th>\n",
       "      <td>4.300000</td>\n",
       "      <td>2.000000</td>\n",
       "      <td>1.000000</td>\n",
       "      <td>0.100000</td>\n",
       "      <td>0.000000</td>\n",
       "    </tr>\n",
       "    <tr>\n",
       "      <th>25%</th>\n",
       "      <td>5.100000</td>\n",
       "      <td>2.800000</td>\n",
       "      <td>1.600000</td>\n",
       "      <td>0.300000</td>\n",
       "      <td>0.000000</td>\n",
       "    </tr>\n",
       "    <tr>\n",
       "      <th>50%</th>\n",
       "      <td>5.800000</td>\n",
       "      <td>3.000000</td>\n",
       "      <td>4.350000</td>\n",
       "      <td>1.300000</td>\n",
       "      <td>1.000000</td>\n",
       "    </tr>\n",
       "    <tr>\n",
       "      <th>75%</th>\n",
       "      <td>6.400000</td>\n",
       "      <td>3.300000</td>\n",
       "      <td>5.100000</td>\n",
       "      <td>1.800000</td>\n",
       "      <td>2.000000</td>\n",
       "    </tr>\n",
       "    <tr>\n",
       "      <th>max</th>\n",
       "      <td>7.900000</td>\n",
       "      <td>4.400000</td>\n",
       "      <td>6.900000</td>\n",
       "      <td>2.500000</td>\n",
       "      <td>2.000000</td>\n",
       "    </tr>\n",
       "  </tbody>\n",
       "</table>\n",
       "</div>"
      ],
      "text/plain": [
       "       sepal_length  sepal_width  petal_length  petal_width  species_num\n",
       "count    150.000000   150.000000    150.000000   150.000000   150.000000\n",
       "mean       5.843333     3.054000      3.758667     1.198667     1.000000\n",
       "std        0.828066     0.433594      1.764420     0.763161     0.819232\n",
       "min        4.300000     2.000000      1.000000     0.100000     0.000000\n",
       "25%        5.100000     2.800000      1.600000     0.300000     0.000000\n",
       "50%        5.800000     3.000000      4.350000     1.300000     1.000000\n",
       "75%        6.400000     3.300000      5.100000     1.800000     2.000000\n",
       "max        7.900000     4.400000      6.900000     2.500000     2.000000"
      ]
     },
     "execution_count": 30,
     "metadata": {},
     "output_type": "execute_result"
    }
   ],
   "source": [
    "iris.describe()"
   ]
  },
  {
   "cell_type": "code",
   "execution_count": 142,
   "metadata": {},
   "outputs": [
    {
     "data": {
      "text/plain": [
       "sepal_length    35\n",
       "sepal_width     23\n",
       "petal_length    43\n",
       "petal_width     22\n",
       "species          3\n",
       "species_num      3\n",
       "dtype: int64"
      ]
     },
     "execution_count": 142,
     "metadata": {},
     "output_type": "execute_result"
    }
   ],
   "source": [
    "iris.loc[:,:].nunique()"
   ]
  },
  {
   "cell_type": "code",
   "execution_count": 45,
   "metadata": {},
   "outputs": [
    {
     "data": {
      "image/png": "[encoded data removed]",
      "text/plain": [
       "<Figure size 576x432 with 1 Axes>"
      ]
     },
     "metadata": {},
     "output_type": "display_data"
    }
   ],
   "source": [
    "ax = iris.boxplot(column='sepal_length', by='species', figsize=(8,6))\n",
    "ax.set_title('Sepal Length by Species');"
   ]
  },
  {
   "cell_type": "code",
   "execution_count": 41,
   "metadata": {},
   "outputs": [
    {
     "data": {
      "image/png": "[encoded data removed]",
      "text/plain": [
       "<Figure size 576x432 with 1 Axes>"
      ]
     },
     "metadata": {},
     "output_type": "display_data"
    }
   ],
   "source": [
    "ax = iris.boxplot(column='sepal_width', by='species', figsize=(8,6))\n",
    "ax.set_title('Sepal Width by Species');"
   ]
  },
  {
   "cell_type": "code",
   "execution_count": 42,
   "metadata": {},
   "outputs": [
    {
     "data": {
      "image/png": "[encoded data removed]",
      "text/plain": [
       "<Figure size 576x432 with 1 Axes>"
      ]
     },
     "metadata": {},
     "output_type": "display_data"
    }
   ],
   "source": [
    "ax = iris.boxplot(column='petal_length', by='species', figsize=(8,6))\n",
    "ax.set_title('Petal Length by Species');"
   ]
  },
  {
   "cell_type": "code",
   "execution_count": 39,
   "metadata": {},
   "outputs": [
    {
     "data": {
      "image/png": "[encoded data removed]",
      "text/plain": [
       "<Figure size 576x432 with 1 Axes>"
      ]
     },
     "metadata": {},
     "output_type": "display_data"
    }
   ],
   "source": [
    "ax = iris.boxplot(column='petal_width', by='species', figsize=(8,6))\n",
    "ax.set_title('Petal Width by Species');"
   ]
  },
  {
   "cell_type": "code",
   "execution_count": 47,
   "metadata": {},
   "outputs": [
    {
     "data": {
      "image/png": "[encoded data removed]",
      "text/plain": [
       "<Figure size 576x432 with 6 Axes>"
      ]
     },
     "metadata": {},
     "output_type": "display_data"
    }
   ],
   "source": [
    "#all together in the same view.\n",
    "ax = iris.boxplot(by='species', rot=45, figsize = (8,6));"
   ]
  },
  {
   "cell_type": "code",
   "execution_count": 60,
   "metadata": {},
   "outputs": [
    {
     "data": {
      "image/png": "[encoded data removed]",
      "text/plain": [
       "<Figure size 432x288 with 1 Axes>"
      ]
     },
     "metadata": {},
     "output_type": "display_data"
    }
   ],
   "source": [
    "#ax = iris.plot(kind='scatter', x='petal_length', y='petal_width', c='species_num')\n",
    "fig, ax1 = plt.subplots()\n",
    "ax.scatter(data=iris, x='petal_length', y='petal_width', c='species_num');\n",
    "ax1.scatter(data=iris, x='sepal_length', y='sepal_width', c='species_num');"
   ]
  },
  {
   "cell_type": "markdown",
   "metadata": {},
   "source": [
    "- Get the accuracy of a null model that simply predicts the most common species."
   ]
  },
  {
   "cell_type": "code",
   "execution_count": 80,
   "metadata": {},
   "outputs": [
    {
     "data": {
      "text/plain": [
       "0.3333333333333333"
      ]
     },
     "execution_count": 80,
     "metadata": {},
     "output_type": "execute_result"
    }
   ],
   "source": [
    "y = iris.loc[:, 'species_num']\n",
    "\n",
    "frequencies = y.value_counts().sort_values(ascending=False)\n",
    "total = frequencies.sum()\n",
    "biggest_frequency = frequencies.iloc[0]\n",
    "\n",
    "biggest_frequency / total\n",
    "\n",
    "#the null model would only be 33% accurate"
   ]
  },
  {
   "cell_type": "markdown",
   "metadata": {},
   "source": [
    "- Develop a KNN model to predict species. Use ten-fold cross-validation to evaluate your model's accuracy on both training and test data. Remember to standardize your feature variables!"
   ]
  },
  {
   "cell_type": "code",
   "execution_count": 82,
   "metadata": {},
   "outputs": [
    {
     "data": {
      "text/html": [
       "<div>\n",
       "<style scoped>\n",
       "    .dataframe tbody tr th:only-of-type {\n",
       "        vertical-align: middle;\n",
       "    }\n",
       "\n",
       "    .dataframe tbody tr th {\n",
       "        vertical-align: top;\n",
       "    }\n",
       "\n",
       "    .dataframe thead th {\n",
       "        text-align: right;\n",
       "    }\n",
       "</style>\n",
       "<table border=\"1\" class=\"dataframe\">\n",
       "  <thead>\n",
       "    <tr style=\"text-align: right;\">\n",
       "      <th></th>\n",
       "      <th>sepal_length</th>\n",
       "      <th>sepal_width</th>\n",
       "      <th>petal_length</th>\n",
       "      <th>petal_width</th>\n",
       "      <th>species</th>\n",
       "      <th>species_num</th>\n",
       "    </tr>\n",
       "  </thead>\n",
       "  <tbody>\n",
       "    <tr>\n",
       "      <th>0</th>\n",
       "      <td>5.1</td>\n",
       "      <td>3.5</td>\n",
       "      <td>1.4</td>\n",
       "      <td>0.2</td>\n",
       "      <td>Iris-setosa</td>\n",
       "      <td>0</td>\n",
       "    </tr>\n",
       "    <tr>\n",
       "      <th>1</th>\n",
       "      <td>4.9</td>\n",
       "      <td>3.0</td>\n",
       "      <td>1.4</td>\n",
       "      <td>0.2</td>\n",
       "      <td>Iris-setosa</td>\n",
       "      <td>0</td>\n",
       "    </tr>\n",
       "    <tr>\n",
       "      <th>2</th>\n",
       "      <td>4.7</td>\n",
       "      <td>3.2</td>\n",
       "      <td>1.3</td>\n",
       "      <td>0.2</td>\n",
       "      <td>Iris-setosa</td>\n",
       "      <td>0</td>\n",
       "    </tr>\n",
       "    <tr>\n",
       "      <th>3</th>\n",
       "      <td>4.6</td>\n",
       "      <td>3.1</td>\n",
       "      <td>1.5</td>\n",
       "      <td>0.2</td>\n",
       "      <td>Iris-setosa</td>\n",
       "      <td>0</td>\n",
       "    </tr>\n",
       "    <tr>\n",
       "      <th>4</th>\n",
       "      <td>5.0</td>\n",
       "      <td>3.6</td>\n",
       "      <td>1.4</td>\n",
       "      <td>0.2</td>\n",
       "      <td>Iris-setosa</td>\n",
       "      <td>0</td>\n",
       "    </tr>\n",
       "  </tbody>\n",
       "</table>\n",
       "</div>"
      ],
      "text/plain": [
       "   sepal_length  sepal_width  petal_length  petal_width      species  \\\n",
       "0           5.1          3.5           1.4          0.2  Iris-setosa   \n",
       "1           4.9          3.0           1.4          0.2  Iris-setosa   \n",
       "2           4.7          3.2           1.3          0.2  Iris-setosa   \n",
       "3           4.6          3.1           1.5          0.2  Iris-setosa   \n",
       "4           5.0          3.6           1.4          0.2  Iris-setosa   \n",
       "\n",
       "   species_num  \n",
       "0            0  \n",
       "1            0  \n",
       "2            0  \n",
       "3            0  \n",
       "4            0  "
      ]
     },
     "execution_count": 82,
     "metadata": {},
     "output_type": "execute_result"
    }
   ],
   "source": [
    "from sklearn.neighbors import KNeighborsClassifier\n",
    "from sklearn.model_selection import train_test_split\n",
    "from sklearn import metrics\n",
    "iris.head()"
   ]
  },
  {
   "cell_type": "code",
   "execution_count": 84,
   "metadata": {},
   "outputs": [],
   "source": [
    "feature_cols = ['sepal_length', 'sepal_width', 'petal_length', 'petal_width']\n",
    "X = iris.loc[:, feature_cols]\n",
    "y = iris.loc[:, 'species_num']"
   ]
  },
  {
   "cell_type": "code",
   "execution_count": 92,
   "metadata": {},
   "outputs": [],
   "source": [
    "X_train, X_test, y_train, y_test = train_test_split(X, y, random_state=99, shuffle=True)"
   ]
  },
  {
   "cell_type": "code",
   "execution_count": 93,
   "metadata": {},
   "outputs": [],
   "source": [
    "from sklearn.preprocessing import StandardScaler\n",
    "\n",
    "scaler = StandardScaler()\n",
    "X_train = scaler.fit_transform(X_train)\n",
    "\n",
    "X_test = scaler.transform(X_test)"
   ]
  },
  {
   "cell_type": "code",
   "execution_count": 95,
   "metadata": {},
   "outputs": [
    {
     "data": {
      "text/plain": [
       "array([[ 1.32821842,  0.10932865,  0.94818249,  1.17842072],\n",
       "       [-1.77613181, -0.36162555, -1.32218499, -1.28491846],\n",
       "       [ 0.70734837, -0.36162555,  0.32383143,  0.14122527],\n",
       "       [ 1.32821842,  0.34480576,  1.11846005,  1.43771958],\n",
       "       [-1.03108775,  1.28671417, -1.32218499, -1.28491846],\n",
       "       [-0.41021771, -1.30353396,  0.15355387,  0.14122527],\n",
       "       [ 0.21065234, -0.36162555,  0.43734981,  0.40052413],\n",
       "       [ 1.0798704 , -1.30353396,  1.17521924,  0.78947242],\n",
       "       [-1.27943577,  0.81575996, -1.03838905, -1.28491846],\n",
       "       [ 0.08647833,  0.34480576,  0.60762737,  0.78947242],\n",
       "       [ 2.32161049, -0.59710265,  1.68605192,  1.04877128],\n",
       "       [ 0.58317436, -1.77448817,  0.38059062,  0.14122527],\n",
       "       [ 0.33482635, -0.12614845,  0.66438655,  0.78947242],\n",
       "       [-0.2860437 , -0.83257976,  0.26707225,  0.14122527],\n",
       "       [ 1.0798704 ,  0.58028286,  1.11846005,  1.17842072],\n",
       "       [-0.53439172,  1.99314548, -1.37894418, -1.0256196 ],\n",
       "       [-1.15526176,  0.10932865, -1.2654258 , -1.41456789],\n",
       "       [ 0.33482635, -0.59710265,  0.15355387,  0.14122527],\n",
       "       [-0.41021771, -1.53901107, -0.01672369, -0.24772302],\n",
       "       [-1.15526176, -1.30353396,  0.43734981,  0.65982299],\n",
       "       [-0.53439172, -0.12614845,  0.43734981,  0.40052413],\n",
       "       [ 0.70734837,  0.34480576,  0.43734981,  0.40052413],\n",
       "       [-0.90691374,  1.75766838, -1.20866661, -1.28491846],\n",
       "       [-0.41021771, -1.53901107,  0.0400355 , -0.11807359],\n",
       "       [ 2.32161049,  1.75766838,  1.68605192,  1.30807015],\n",
       "       [-1.52778379,  0.81575996, -1.32218499, -1.15526903],\n",
       "       [-1.03108775,  1.05123707, -1.20866661, -0.76632074],\n",
       "       [ 0.83152238, -0.12614845,  0.83466412,  1.04877128],\n",
       "       [ 0.95569639, -0.36162555,  0.49410899,  0.14122527],\n",
       "       [ 0.83152238, -0.12614845,  1.17521924,  1.30807015],\n",
       "       [-1.27943577,  0.10932865, -1.20866661, -1.28491846],\n",
       "       [ 0.83152238, -0.12614845,  1.00494168,  0.78947242],\n",
       "       [-0.16186969,  3.17053099, -1.2654258 , -1.0256196 ],\n",
       "       [ 0.58317436, -1.30353396,  0.66438655,  0.40052413],\n",
       "       [-0.03769568, -1.06805686,  0.15355387,  0.01157584],\n",
       "       [-1.40360978,  0.34480576, -1.37894418, -1.28491846],\n",
       "       [-1.03108775,  0.58028286, -1.32218499, -1.28491846],\n",
       "       [ 2.32161049, -0.12614845,  1.3454968 ,  1.43771958]])"
      ]
     },
     "execution_count": 95,
     "metadata": {},
     "output_type": "execute_result"
    }
   ],
   "source": [
    "#Print X_test to check standardization\n",
    "X_test"
   ]
  },
  {
   "cell_type": "code",
   "execution_count": 98,
   "metadata": {},
   "outputs": [
    {
     "name": "stdout",
     "output_type": "stream",
     "text": [
      "0.9473684210526315\n",
      "0.9732142857142857\n"
     ]
    }
   ],
   "source": [
    "knn = KNeighborsClassifier(n_neighbors=10)\n",
    "knn.fit(X_train, y_train)\n",
    "y_pred_class = knn.predict(X_test)\n",
    "\n",
    "print((metrics.accuracy_score(y_test, y_pred_class)))\n",
    "print((metrics.accuracy_score(y_train, knn.predict(X_train))))"
   ]
  },
  {
   "cell_type": "markdown",
   "metadata": {},
   "source": [
    "- How well did your model perform on the training set compared to the null model? What does this result tell you about the bias and/or variance of your model?"
   ]
  },
  {
   "cell_type": "code",
   "execution_count": null,
   "metadata": {},
   "outputs": [],
   "source": [
    "#The model performed much better on the training set (~97%) compared to the null model (33%). This tells me that the model has\n",
    "#much lower bias and a higher variance compared to the null model since the null model output is constant."
   ]
  },
  {
   "cell_type": "markdown",
   "metadata": {},
   "source": []
  },
  {
   "cell_type": "markdown",
   "metadata": {},
   "source": [
    "- How well did your model perform on the test set compared to how well it performed on the training set? What does this result tell you about the bias and/or variance of your model?"
   ]
  },
  {
   "cell_type": "code",
   "execution_count": null,
   "metadata": {},
   "outputs": [],
   "source": [
    "#The model performed slightly better on the training set (97%) compared to the test set (95%). This tells me that the bias of \n",
    "#the model will keep on increasing as we add more test data points. "
   ]
  },
  {
   "cell_type": "markdown",
   "metadata": {},
   "source": []
  },
  {
   "cell_type": "markdown",
   "metadata": {},
   "source": [
    "- Does your model appear to have more of a bias problem or more of a variance problem? Why?"
   ]
  },
  {
   "cell_type": "code",
   "execution_count": null,
   "metadata": {},
   "outputs": [],
   "source": []
  },
  {
   "cell_type": "markdown",
   "metadata": {},
   "source": []
  },
  {
   "cell_type": "markdown",
   "metadata": {},
   "source": [
    "- Adjust $k$ to address this problem, and get the resulting test-set accuracy using ten-fold cross validation. Did your model get better or worse? By how much?"
   ]
  },
  {
   "cell_type": "code",
   "execution_count": 103,
   "metadata": {},
   "outputs": [
    {
     "data": {
      "image/png": "[encoded data removed]",
      "text/plain": [
       "<Figure size 576x432 with 1 Axes>"
      ]
     },
     "metadata": {},
     "output_type": "display_data"
    }
   ],
   "source": [
    "#Get train scores for values of k\n",
    "plt.rcParams['figure.figsize'] = (8, 6)\n",
    "plt.rcParams['font.size'] = 14\n",
    "\n",
    "plt.style.use('fivethirtyeight')\n",
    "train_scores = []\n",
    "for k in range(1, 100):\n",
    "    knn = KNeighborsClassifier(n_neighbors=k)\n",
    "    knn.fit(X, y)\n",
    "    pred = knn.predict(X)\n",
    "    score = float(sum(pred == y)) / len(y)\n",
    "    train_scores.append([k, score])\n",
    "scores_df = pd.DataFrame(train_scores, columns=['k', 'train_score'])\n",
    "ax = scores_df.plot(kind='line', x='k', y='train_score')"
   ]
  },
  {
   "cell_type": "markdown",
   "metadata": {},
   "source": [
    "- Plot your model's test-set accuracy across a range of $k$ values using ten-fold cross validation. Use a large enough range of $k$ values to provide reasonable assurance that making $k$ larger would not help.\n",
    "\n",
    "Tip: Use functions and loops to avoid writing duplicate code."
   ]
  },
  {
   "cell_type": "code",
   "execution_count": 104,
   "metadata": {},
   "outputs": [
    {
     "data": {
      "image/png": "[encoded data removed]",
      "text/plain": [
       "<Figure size 576x432 with 1 Axes>"
      ]
     },
     "metadata": {},
     "output_type": "display_data"
    }
   ],
   "source": [
    "# Calculate TRAINING ERROR and TESTING ERROR for K=1 through 100.\n",
    "# /scrub/\n",
    "test_scores = []\n",
    "\n",
    "X_train, X_test, y_train, y_test = (\n",
    "    train_test_split(X, y, random_state=99, shuffle=True)\n",
    ")\n",
    "\n",
    "for k in range(1, 100):\n",
    "    \n",
    "    knn = KNeighborsClassifier(n_neighbors=k)\n",
    "    knn.fit(X_train, y_train)\n",
    "    y_pred_class = knn.predict(X_test)\n",
    "    test_accuracy = metrics.accuracy_score(y_test, y_pred_class)\n",
    "    test_scores.append(test_accuracy)\n",
    "scores_df.loc[:, 'test_score'] = test_scores\n",
    "ax = scores_df.plot(kind='line', x='k', y='test_score')"
   ]
  },
  {
   "cell_type": "code",
   "execution_count": 105,
   "metadata": {},
   "outputs": [
    {
     "data": {
      "image/png": "[encoded data removed]",
      "text/plain": [
       "<Figure size 576x432 with 1 Axes>"
      ]
     },
     "metadata": {},
     "output_type": "display_data"
    }
   ],
   "source": [
    "ax = scores_df.plot(kind='line', x='k', y='train_score')\n",
    "scores_df.plot(kind='line', x='k', y='test_score', ax=ax);"
   ]
  },
  {
   "cell_type": "code",
   "execution_count": 110,
   "metadata": {},
   "outputs": [
    {
     "data": {
      "text/html": [
       "<div>\n",
       "<style scoped>\n",
       "    .dataframe tbody tr th:only-of-type {\n",
       "        vertical-align: middle;\n",
       "    }\n",
       "\n",
       "    .dataframe tbody tr th {\n",
       "        vertical-align: top;\n",
       "    }\n",
       "\n",
       "    .dataframe thead th {\n",
       "        text-align: right;\n",
       "    }\n",
       "</style>\n",
       "<table border=\"1\" class=\"dataframe\">\n",
       "  <thead>\n",
       "    <tr style=\"text-align: right;\">\n",
       "      <th></th>\n",
       "      <th>k</th>\n",
       "      <th>train_score</th>\n",
       "      <th>test_score</th>\n",
       "    </tr>\n",
       "  </thead>\n",
       "  <tbody>\n",
       "    <tr>\n",
       "      <th>9</th>\n",
       "      <td>10</td>\n",
       "      <td>0.980000</td>\n",
       "      <td>0.973684</td>\n",
       "    </tr>\n",
       "    <tr>\n",
       "      <th>11</th>\n",
       "      <td>12</td>\n",
       "      <td>0.980000</td>\n",
       "      <td>0.973684</td>\n",
       "    </tr>\n",
       "    <tr>\n",
       "      <th>21</th>\n",
       "      <td>22</td>\n",
       "      <td>0.980000</td>\n",
       "      <td>0.973684</td>\n",
       "    </tr>\n",
       "    <tr>\n",
       "      <th>24</th>\n",
       "      <td>25</td>\n",
       "      <td>0.980000</td>\n",
       "      <td>0.973684</td>\n",
       "    </tr>\n",
       "    <tr>\n",
       "      <th>23</th>\n",
       "      <td>24</td>\n",
       "      <td>0.973333</td>\n",
       "      <td>0.973684</td>\n",
       "    </tr>\n",
       "  </tbody>\n",
       "</table>\n",
       "</div>"
      ],
      "text/plain": [
       "     k  train_score  test_score\n",
       "9   10     0.980000    0.973684\n",
       "11  12     0.980000    0.973684\n",
       "21  22     0.980000    0.973684\n",
       "24  25     0.980000    0.973684\n",
       "23  24     0.973333    0.973684"
      ]
     },
     "execution_count": 110,
     "metadata": {},
     "output_type": "execute_result"
    }
   ],
   "source": [
    "scores_df.sort_values(['test_score','train_score'], ascending=False).head()\n",
    "#k=10 should produce the best accuracy"
   ]
  },
  {
   "cell_type": "markdown",
   "metadata": {},
   "source": [
    "- **Bonus:** Find a *transformation* of one of more of your feature variables that allows you to create a model that performs better on the test set than your previous model. \n",
    "\n",
    "Possible examples:\n",
    "    - Square a column\n",
    "    - Take the square root of a column\n",
    "    - Take the logarithm of a column\n",
    "    - Multiply two columns together"
   ]
  },
  {
   "cell_type": "code",
   "execution_count": null,
   "metadata": {},
   "outputs": [],
   "source": []
  },
  {
   "cell_type": "markdown",
   "metadata": {},
   "source": [
    "## Bonus\n",
    "\n",
    "`scikit-learn` is the most popular machine learning library in Python, but there are alternative packages that have different strengths. "
   ]
  },
  {
   "cell_type": "markdown",
   "metadata": {},
   "source": [
    "### Example: Using the Statsmodels Formula"
   ]
  },
  {
   "cell_type": "code",
   "execution_count": 7,
   "metadata": {},
   "outputs": [
    {
     "data": {
      "text/html": [
       "<div>\n",
       "<style scoped>\n",
       "    .dataframe tbody tr th:only-of-type {\n",
       "        vertical-align: middle;\n",
       "    }\n",
       "\n",
       "    .dataframe tbody tr th {\n",
       "        vertical-align: top;\n",
       "    }\n",
       "\n",
       "    .dataframe thead th {\n",
       "        text-align: right;\n",
       "    }\n",
       "</style>\n",
       "<table border=\"1\" class=\"dataframe\">\n",
       "  <thead>\n",
       "    <tr style=\"text-align: right;\">\n",
       "      <th></th>\n",
       "      <th>CRIM</th>\n",
       "      <th>ZN</th>\n",
       "      <th>INDUS</th>\n",
       "      <th>CHAS</th>\n",
       "      <th>NOX</th>\n",
       "      <th>RM</th>\n",
       "      <th>AGE</th>\n",
       "      <th>DIS</th>\n",
       "      <th>RAD</th>\n",
       "      <th>TAX</th>\n",
       "      <th>PTRATIO</th>\n",
       "      <th>B</th>\n",
       "      <th>LSTAT</th>\n",
       "      <th>MEDV</th>\n",
       "    </tr>\n",
       "  </thead>\n",
       "  <tbody>\n",
       "    <tr>\n",
       "      <th>0</th>\n",
       "      <td>0.00632</td>\n",
       "      <td>18.0</td>\n",
       "      <td>2.31</td>\n",
       "      <td>0.0</td>\n",
       "      <td>0.538</td>\n",
       "      <td>6.575</td>\n",
       "      <td>65.2</td>\n",
       "      <td>4.0900</td>\n",
       "      <td>1.0</td>\n",
       "      <td>296.0</td>\n",
       "      <td>15.3</td>\n",
       "      <td>396.90</td>\n",
       "      <td>4.98</td>\n",
       "      <td>24.0</td>\n",
       "    </tr>\n",
       "    <tr>\n",
       "      <th>1</th>\n",
       "      <td>0.02731</td>\n",
       "      <td>0.0</td>\n",
       "      <td>7.07</td>\n",
       "      <td>0.0</td>\n",
       "      <td>0.469</td>\n",
       "      <td>6.421</td>\n",
       "      <td>78.9</td>\n",
       "      <td>4.9671</td>\n",
       "      <td>2.0</td>\n",
       "      <td>242.0</td>\n",
       "      <td>17.8</td>\n",
       "      <td>396.90</td>\n",
       "      <td>9.14</td>\n",
       "      <td>21.6</td>\n",
       "    </tr>\n",
       "    <tr>\n",
       "      <th>2</th>\n",
       "      <td>0.02729</td>\n",
       "      <td>0.0</td>\n",
       "      <td>7.07</td>\n",
       "      <td>0.0</td>\n",
       "      <td>0.469</td>\n",
       "      <td>7.185</td>\n",
       "      <td>61.1</td>\n",
       "      <td>4.9671</td>\n",
       "      <td>2.0</td>\n",
       "      <td>242.0</td>\n",
       "      <td>17.8</td>\n",
       "      <td>392.83</td>\n",
       "      <td>4.03</td>\n",
       "      <td>34.7</td>\n",
       "    </tr>\n",
       "    <tr>\n",
       "      <th>3</th>\n",
       "      <td>0.03237</td>\n",
       "      <td>0.0</td>\n",
       "      <td>2.18</td>\n",
       "      <td>0.0</td>\n",
       "      <td>0.458</td>\n",
       "      <td>6.998</td>\n",
       "      <td>45.8</td>\n",
       "      <td>6.0622</td>\n",
       "      <td>3.0</td>\n",
       "      <td>222.0</td>\n",
       "      <td>18.7</td>\n",
       "      <td>394.63</td>\n",
       "      <td>2.94</td>\n",
       "      <td>33.4</td>\n",
       "    </tr>\n",
       "    <tr>\n",
       "      <th>4</th>\n",
       "      <td>0.06905</td>\n",
       "      <td>0.0</td>\n",
       "      <td>2.18</td>\n",
       "      <td>0.0</td>\n",
       "      <td>0.458</td>\n",
       "      <td>7.147</td>\n",
       "      <td>54.2</td>\n",
       "      <td>6.0622</td>\n",
       "      <td>3.0</td>\n",
       "      <td>222.0</td>\n",
       "      <td>18.7</td>\n",
       "      <td>396.90</td>\n",
       "      <td>5.33</td>\n",
       "      <td>36.2</td>\n",
       "    </tr>\n",
       "  </tbody>\n",
       "</table>\n",
       "</div>"
      ],
      "text/plain": [
       "      CRIM    ZN  INDUS  CHAS    NOX     RM   AGE     DIS  RAD    TAX  \\\n",
       "0  0.00632  18.0   2.31   0.0  0.538  6.575  65.2  4.0900  1.0  296.0   \n",
       "1  0.02731   0.0   7.07   0.0  0.469  6.421  78.9  4.9671  2.0  242.0   \n",
       "2  0.02729   0.0   7.07   0.0  0.469  7.185  61.1  4.9671  2.0  242.0   \n",
       "3  0.03237   0.0   2.18   0.0  0.458  6.998  45.8  6.0622  3.0  222.0   \n",
       "4  0.06905   0.0   2.18   0.0  0.458  7.147  54.2  6.0622  3.0  222.0   \n",
       "\n",
       "   PTRATIO       B  LSTAT  MEDV  \n",
       "0     15.3  396.90   4.98  24.0  \n",
       "1     17.8  396.90   9.14  21.6  \n",
       "2     17.8  392.83   4.03  34.7  \n",
       "3     18.7  394.63   2.94  33.4  \n",
       "4     18.7  396.90   5.33  36.2  "
      ]
     },
     "execution_count": 7,
     "metadata": {},
     "output_type": "execute_result"
    }
   ],
   "source": [
    "# First, format our data in a DataFrame\n",
    "\n",
    "df = pd.DataFrame(boston.data, columns=boston.feature_names)\n",
    "df.loc[:, 'MEDV'] = boston.target\n",
    "df.head()"
   ]
  },
  {
   "cell_type": "code",
   "execution_count": 8,
   "metadata": {},
   "outputs": [
    {
     "data": {
      "text/html": [
       "<table class=\"simpletable\">\n",
       "<caption>OLS Regression Results</caption>\n",
       "<tr>\n",
       "  <th>Dep. Variable:</th>          <td>MEDV</td>       <th>  R-squared:         </th> <td>   0.951</td> \n",
       "</tr>\n",
       "<tr>\n",
       "  <th>Model:</th>                   <td>OLS</td>       <th>  Adj. R-squared:    </th> <td>   0.951</td> \n",
       "</tr>\n",
       "<tr>\n",
       "  <th>Method:</th>             <td>Least Squares</td>  <th>  F-statistic:       </th> <td>   1220.</td> \n",
       "</tr>\n",
       "<tr>\n",
       "  <th>Date:</th>             <td>Sun, 20 May 2018</td> <th>  Prob (F-statistic):</th> <td>1.59e-321</td>\n",
       "</tr>\n",
       "<tr>\n",
       "  <th>Time:</th>                 <td>10:10:40</td>     <th>  Log-Likelihood:    </th> <td> -1567.7</td> \n",
       "</tr>\n",
       "<tr>\n",
       "  <th>No. Observations:</th>      <td>   506</td>      <th>  AIC:               </th> <td>   3151.</td> \n",
       "</tr>\n",
       "<tr>\n",
       "  <th>Df Residuals:</th>          <td>   498</td>      <th>  BIC:               </th> <td>   3185.</td> \n",
       "</tr>\n",
       "<tr>\n",
       "  <th>Df Model:</th>              <td>     8</td>      <th>                     </th>     <td> </td>    \n",
       "</tr>\n",
       "<tr>\n",
       "  <th>Covariance Type:</th>      <td>nonrobust</td>    <th>                     </th>     <td> </td>    \n",
       "</tr>\n",
       "</table>\n",
       "<table class=\"simpletable\">\n",
       "<tr>\n",
       "    <td></td>       <th>coef</th>     <th>std err</th>      <th>t</th>      <th>P>|t|</th>  <th>[0.025</th>    <th>0.975]</th>  \n",
       "</tr>\n",
       "<tr>\n",
       "  <th>RM</th>    <td>    4.9744</td> <td>    0.224</td> <td>   22.197</td> <td> 0.000</td> <td>    4.534</td> <td>    5.415</td>\n",
       "</tr>\n",
       "<tr>\n",
       "  <th>LSTAT</th> <td>   -0.5615</td> <td>    0.048</td> <td>  -11.817</td> <td> 0.000</td> <td>   -0.655</td> <td>   -0.468</td>\n",
       "</tr>\n",
       "<tr>\n",
       "  <th>RAD</th>   <td>    0.2109</td> <td>    0.070</td> <td>    3.025</td> <td> 0.003</td> <td>    0.074</td> <td>    0.348</td>\n",
       "</tr>\n",
       "<tr>\n",
       "  <th>TAX</th>   <td>   -0.0174</td> <td>    0.004</td> <td>   -4.267</td> <td> 0.000</td> <td>   -0.025</td> <td>   -0.009</td>\n",
       "</tr>\n",
       "<tr>\n",
       "  <th>NOX</th>   <td>    4.3456</td> <td>    3.385</td> <td>    1.284</td> <td> 0.200</td> <td>   -2.305</td> <td>   10.997</td>\n",
       "</tr>\n",
       "<tr>\n",
       "  <th>INDUS</th> <td>    0.0925</td> <td>    0.067</td> <td>    1.385</td> <td> 0.167</td> <td>   -0.039</td> <td>    0.224</td>\n",
       "</tr>\n",
       "<tr>\n",
       "  <th>CRIM</th>  <td>   -0.0866</td> <td>    0.037</td> <td>   -2.362</td> <td> 0.019</td> <td>   -0.159</td> <td>   -0.015</td>\n",
       "</tr>\n",
       "<tr>\n",
       "  <th>ZN</th>    <td>    0.0288</td> <td>    0.013</td> <td>    2.215</td> <td> 0.027</td> <td>    0.003</td> <td>    0.054</td>\n",
       "</tr>\n",
       "</table>\n",
       "<table class=\"simpletable\">\n",
       "<tr>\n",
       "  <th>Omnibus:</th>       <td>192.072</td> <th>  Durbin-Watson:     </th> <td>   0.812</td> \n",
       "</tr>\n",
       "<tr>\n",
       "  <th>Prob(Omnibus):</th> <td> 0.000</td>  <th>  Jarque-Bera (JB):  </th> <td> 831.634</td> \n",
       "</tr>\n",
       "<tr>\n",
       "  <th>Skew:</th>          <td> 1.665</td>  <th>  Prob(JB):          </th> <td>2.59e-181</td>\n",
       "</tr>\n",
       "<tr>\n",
       "  <th>Kurtosis:</th>      <td> 8.325</td>  <th>  Cond. No.          </th> <td>6.24e+03</td> \n",
       "</tr>\n",
       "</table>"
      ],
      "text/plain": [
       "<class 'statsmodels.iolib.summary.Summary'>\n",
       "\"\"\"\n",
       "                            OLS Regression Results                            \n",
       "==============================================================================\n",
       "Dep. Variable:                   MEDV   R-squared:                       0.951\n",
       "Model:                            OLS   Adj. R-squared:                  0.951\n",
       "Method:                 Least Squares   F-statistic:                     1220.\n",
       "Date:                Sun, 20 May 2018   Prob (F-statistic):          1.59e-321\n",
       "Time:                        10:10:40   Log-Likelihood:                -1567.7\n",
       "No. Observations:                 506   AIC:                             3151.\n",
       "Df Residuals:                     498   BIC:                             3185.\n",
       "Df Model:                           8                                         \n",
       "Covariance Type:            nonrobust                                         \n",
       "==============================================================================\n",
       "                 coef    std err          t      P>|t|      [0.025      0.975]\n",
       "------------------------------------------------------------------------------\n",
       "RM             4.9744      0.224     22.197      0.000       4.534       5.415\n",
       "LSTAT         -0.5615      0.048    -11.817      0.000      -0.655      -0.468\n",
       "RAD            0.2109      0.070      3.025      0.003       0.074       0.348\n",
       "TAX           -0.0174      0.004     -4.267      0.000      -0.025      -0.009\n",
       "NOX            4.3456      3.385      1.284      0.200      -2.305      10.997\n",
       "INDUS          0.0925      0.067      1.385      0.167      -0.039       0.224\n",
       "CRIM          -0.0866      0.037     -2.362      0.019      -0.159      -0.015\n",
       "ZN             0.0288      0.013      2.215      0.027       0.003       0.054\n",
       "==============================================================================\n",
       "Omnibus:                      192.072   Durbin-Watson:                   0.812\n",
       "Prob(Omnibus):                  0.000   Jarque-Bera (JB):              831.634\n",
       "Skew:                           1.665   Prob(JB):                    2.59e-181\n",
       "Kurtosis:                       8.325   Cond. No.                     6.24e+03\n",
       "==============================================================================\n",
       "\n",
       "Warnings:\n",
       "[1] Standard Errors assume that the covariance matrix of the errors is correctly specified.\n",
       "[2] The condition number is large, 6.24e+03. This might indicate that there are\n",
       "strong multicollinearity or other numerical problems.\n",
       "\"\"\""
      ]
     },
     "execution_count": 8,
     "metadata": {},
     "output_type": "execute_result"
    }
   ],
   "source": [
    "# Set up our new statsmodel.formula handling model\n",
    "import statsmodels.formula.api as smf\n",
    "\n",
    "# You can easily swap these out to test multiple versions/different formulas\n",
    "formulas = {\n",
    "    \"case1\": \"MEDV ~ RM + LSTAT + RAD + TAX + NOX + INDUS + CRIM + ZN - 1\", # - 1 = remove intercept\n",
    "    \"case2\": \"MEDV ~ NOX + RM\",\n",
    "    \"case3\": \"MEDV ~ RAD + TAX\"\n",
    "}\n",
    "\n",
    "model = smf.ols(formula=formulas['case1'], data=df)\n",
    "result = model.fit()\n",
    "\n",
    "result.summary()"
   ]
  },
  {
   "cell_type": "markdown",
   "metadata": {},
   "source": [
    "### Bonus Challenge #1:\n",
    "\n",
    "Can you optimize your R2, selecting the best features and using either test-train split or k-folds?"
   ]
  },
  {
   "cell_type": "code",
   "execution_count": null,
   "metadata": {
    "collapsed": true
   },
   "outputs": [],
   "source": []
  },
  {
   "cell_type": "markdown",
   "metadata": {},
   "source": [
    "### Bonus Challenge #2:\n",
    "\n",
    "Given a combination of predictors, can you find another response variable that can be accurately predicted through the exploration of different predictors in this data set?\n",
    "\n",
    "_Tip: Check out pairplots, coefficients, and Pearson scores._"
   ]
  },
  {
   "cell_type": "code",
   "execution_count": null,
   "metadata": {},
   "outputs": [],
   "source": [
    "# Check out variable relations\n",
    "import seaborn as sns\n",
    "\n",
    "sns.pairplot(X);"
   ]
  },
  {
   "cell_type": "code",
   "execution_count": null,
   "metadata": {
    "collapsed": true
   },
   "outputs": [],
   "source": [
    "# Check out Pearson scores\n"
   ]
  },
  {
   "cell_type": "markdown",
   "metadata": {},
   "source": [
    "### Demo: Patsy"
   ]
  },
  {
   "cell_type": "code",
   "execution_count": 9,
   "metadata": {
    "collapsed": true
   },
   "outputs": [],
   "source": [
    "import patsy\n",
    "\n",
    "# Add response to the core DataFrame\n",
    "df.loc[:, 'MEDV'] = y"
   ]
  },
  {
   "cell_type": "code",
   "execution_count": 10,
   "metadata": {
    "collapsed": true
   },
   "outputs": [
    {
     "name": "stderr",
     "output_type": "stream",
     "text": [
      "/Users/greg/anaconda3/envs/ga/lib/python3.6/site-packages/sklearn/model_selection/_split.py:2026: FutureWarning: From version 0.21, test_size will always complement train_size unless both are specified.\n",
      "  FutureWarning)\n"
     ]
    }
   ],
   "source": [
    "from sklearn.model_selection import train_test_split #If you didn't import it earlier, do so now\n",
    "\n",
    "# Easily change your variable predictors without reslicing your DataFrame\n",
    "y, X = patsy.dmatrices(\"MEDV ~ AGE + RM\", data=df, return_type=\"dataframe\")\n",
    "\n",
    "X_train, X_test, y_train, y_test = train_test_split(X, y, train_size=.7)\n"
   ]
  },
  {
   "cell_type": "code",
   "execution_count": 11,
   "metadata": {},
   "outputs": [
    {
     "name": "stdout",
     "output_type": "stream",
     "text": [
      "R^2 Score: 0.40402292728493383\n"
     ]
    }
   ],
   "source": [
    "from sklearn import metrics\n",
    "from sklearn.linear_model import LinearRegression\n",
    "\n",
    "# Rerun your model, iteratively changing your variables and train_size from the previous cell\n",
    "\n",
    "lm = LinearRegression()\n",
    "model = lm.fit(X_train, y_train)\n",
    "\n",
    "predictions = model.predict(X_test)\n",
    "print(\"R^2 Score: {}\".format(metrics.r2_score(y_test, predictions)))"
   ]
  }
 ],
 "metadata": {
  "anaconda-cloud": {},
  "kernelspec": {
   "display_name": "Python 3",
   "language": "python",
   "name": "python3"
  },
  "language_info": {
   "codemirror_mode": {
    "name": "ipython",
    "version": 3
   },
   "file_extension": ".py",
   "mimetype": "text/x-python",
   "name": "python",
   "nbconvert_exporter": "python",
   "pygments_lexer": "ipython3",
   "version": "3.6.5"
  }
 },
 "nbformat": 4,
 "nbformat_minor": 2
}
